{
 "cells": [
  {
   "cell_type": "code",
   "execution_count": 1,
   "metadata": {},
   "outputs": [],
   "source": [
    "import numpy as np\n",
    "import time"
   ]
  },
  {
   "cell_type": "code",
   "execution_count": 4,
   "metadata": {},
   "outputs": [
    {
     "name": "stdout",
     "output_type": "stream",
     "text": [
      "Poulation Time: 1.900108814239502\n"
     ]
    }
   ],
   "source": [
    "start = time.time()\n",
    "x = np.random.random(100000000)\n",
    "end = time.time()\n",
    "print(\"Poulation Time: {}\".format(end - start))"
   ]
  },
  {
   "cell_type": "code",
   "execution_count": 7,
   "metadata": {},
   "outputs": [
    {
     "name": "stdout",
     "output_type": "stream",
     "text": [
      "0.500008077613819\n",
      "Mean Calculation Time: 17.31099033355713\n"
     ]
    }
   ],
   "source": [
    "start = time.time()\n",
    "print(sum(x) / len(x))\n",
    "end = time.time()\n",
    "print(\"Mean Calculation Time: {}\".format(end - start))"
   ]
  },
  {
   "cell_type": "code",
   "execution_count": 8,
   "metadata": {},
   "outputs": [
    {
     "name": "stdout",
     "output_type": "stream",
     "text": [
      "0.5000080776138903\n",
      "Numpy Mean Calculation Time: 0.2580146789550781\n"
     ]
    }
   ],
   "source": [
    "start = time.time()\n",
    "print(np.mean(x))\n",
    "end = time.time()\n",
    "print(\"Numpy Mean Calculation Time: {}\".format(end - start))"
   ]
  },
  {
   "cell_type": "code",
   "execution_count": null,
   "metadata": {},
   "outputs": [],
   "source": []
  }
 ],
 "metadata": {
  "kernelspec": {
   "display_name": "Python 3",
   "language": "python",
   "name": "python3"
  },
  "language_info": {
   "codemirror_mode": {
    "name": "ipython",
    "version": 3
   },
   "file_extension": ".py",
   "mimetype": "text/x-python",
   "name": "python",
   "nbconvert_exporter": "python",
   "pygments_lexer": "ipython3",
   "version": "3.7.0"
  }
 },
 "nbformat": 4,
 "nbformat_minor": 2
}
