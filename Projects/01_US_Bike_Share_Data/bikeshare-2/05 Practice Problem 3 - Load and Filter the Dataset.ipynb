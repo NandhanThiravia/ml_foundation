{
 "cells": [
  {
   "cell_type": "code",
   "execution_count": 2,
   "metadata": {},
   "outputs": [
    {
     "name": "stdout",
     "output_type": "stream",
     "text": [
      "chicago.csv\n"
     ]
    }
   ],
   "source": [
    "import pandas as pd\n",
    "\n",
    "CITY_DATA = { 'chicago': 'chicago.csv',\n",
    "              'new york city': 'new_york_city.csv',\n",
    "              'washington': 'washington.csv' }\n",
    "\n",
    "print (CITY_DATA['chicago'])"
   ]
  },
  {
   "cell_type": "code",
   "execution_count": 25,
   "metadata": {},
   "outputs": [
    {
     "name": "stdout",
     "output_type": "stream",
     "text": [
      "\n",
      "Print:\n",
      "\n",
      "    Unnamed: 0          Start Time             End Time  Trip Duration  \\\n",
      "3       304487 2017-03-06 13:49:38  2017-03-06 13:55:28            350   \n",
      "26      385517 2017-03-23 09:38:27  2017-03-23 09:42:41            254   \n",
      "34      389463 2017-03-23 20:50:57  2017-03-23 20:57:19            382   \n",
      "37      395803 2017-03-24 15:35:55  2017-03-24 15:46:10            615   \n",
      "47      371076 2017-03-20 21:27:24  2017-03-20 21:39:02            698   \n",
      "\n",
      "                    Start Station                   End Station   User Type  \\\n",
      "3   Christiana Ave & Lawrence Ave  St. Louis Ave & Balmoral Ave  Subscriber   \n",
      "26       Loomis St & Jackson Blvd      Peoria St & Jackson Blvd  Subscriber   \n",
      "34            Ellis Ave & 55th St         Kimbark Ave & 53rd St  Subscriber   \n",
      "37          Dearborn St & Erie St       State St & Van Buren St  Subscriber   \n",
      "47            Morgan St & Lake St          Larrabee St & Oak St  Subscriber   \n",
      "\n",
      "    Gender  Birth Year  month  day_of_week  \n",
      "3     Male      1986.0      3            0  \n",
      "26  Female      1985.0      3            3  \n",
      "34  Female      1993.0      3            3  \n",
      "37    Male      1989.0      3            4  \n",
      "47    Male      1972.0      3            0  \n"
     ]
    }
   ],
   "source": [
    "def load_data(city, month, day):\n",
    "    \"\"\"\n",
    "    Loads data for the specified city and filters by month and day if applicable.\n",
    "\n",
    "    Args:\n",
    "        (str) city - name of the city to analyze\n",
    "        (str) month - name of the month to filter by, or \"all\" to apply no month filter\n",
    "        (str) day - name of the day of week to filter by, or \"all\" to apply no day filter\n",
    "    Returns:\n",
    "        df - pandas DataFrame containing city data filtered by month and day\n",
    "    \"\"\"\n",
    "    \n",
    "    # load data file into a dataframe\n",
    "    df = pd.read_csv(CITY_DATA[city])\n",
    "\n",
    "    # convert the Start Time column to datetime\n",
    "    df['Start Time'] = pd.to_datetime(df['Start Time'])    \n",
    "\n",
    "    # extract month and day of week from Start Time to create new columns\n",
    "    df['month'] = df['Start Time'].dt.month\n",
    "    df['day_of_week'] = df['Start Time'].dt.dayofweek    \n",
    "\n",
    "    # filter by month if applicable\n",
    "    if month != 'all':\n",
    "        # use the index of the months list to get the corresponding int\n",
    "        months = ['january', 'february', 'march', 'april', 'may', 'june']\n",
    "        month = months.index(month)\n",
    "        month += 1\n",
    "    \n",
    "        # filter by month to create the new dataframe\n",
    "        is_it_month = df['month']==month\n",
    "        df = df[is_it_month]\n",
    "        print ('\\nPrint:\\n')\n",
    "        print (df.head())\n",
    "\n",
    "    # filter by day of week if applicable\n",
    "    if day != 'all':\n",
    "        # filter by day of week to create the new dataframe\n",
    "        days = ['monday', 'tuesday', 'wednesday', 'thursday', 'friday', 'saturday', 'sunday']\n",
    "        day = days.index(day)\n",
    "    \n",
    "        # filter by day to create the new dataframe\n",
    "        is_it_day = df['day_of_week']==day\n",
    "        df = df[is_it_day]\n",
    "    \n",
    "    return df\n",
    "    \n",
    "df = load_data('chicago', 'march', 'friday')\n",
    "\n",
    "#print (df.head())"
   ]
  },
  {
   "cell_type": "code",
   "execution_count": null,
   "metadata": {},
   "outputs": [],
   "source": []
  }
 ],
 "metadata": {
  "kernelspec": {
   "display_name": "Python 3 (ipykernel)",
   "language": "python",
   "name": "python3"
  },
  "language_info": {
   "codemirror_mode": {
    "name": "ipython",
    "version": 3
   },
   "file_extension": ".py",
   "mimetype": "text/x-python",
   "name": "python",
   "nbconvert_exporter": "python",
   "pygments_lexer": "ipython3",
   "version": "3.7.4"
  }
 },
 "nbformat": 4,
 "nbformat_minor": 2
}
