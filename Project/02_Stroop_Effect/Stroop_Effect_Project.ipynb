{
 "cells": [
  {
   "cell_type": "markdown",
   "metadata": {},
   "source": [
    "# Statistics: The Science of Decisions Project Instructions\n",
    "### Author: Thiravia Nandhan P\n",
    "### Date: January 27, 2019"
   ]
  },
  {
   "cell_type": "markdown",
   "metadata": {},
   "source": [
    "## Background Information\n",
    "In a Stroop task, participants are presented with a list of words, with each word displayed in a color of ink. The participant’s task is to say out loud the color of the ink in which the word is printed. The task has two conditions: a congruent words condition, and an incongruent words condition. In the congruent words condition, the words being displayed are color words whose names match the colors in which they are printed: for example RED, BLUE. In the incongruent words condition, the words displayed are color words whose names do not match the colors in which they are printed: for example PURPLE, ORANGE. In each case, we measure the time it takes to name the ink colors in equally-sized lists. Each participant will go through and record a time from each condition."
   ]
  },
  {
   "cell_type": "markdown",
   "metadata": {},
   "source": [
    "## Questions For Investigation\n",
    "### 1. What is our independent variable? What is our dependent variable?\n",
    "\n",
    "#### Independent Variable:\n",
    "The independent variable is the font color / word\n",
    "\n",
    "#### Dependent Variable:\n",
    "The dependent variable is the time taken to identify the Congruent or Incongruent words.\n"
   ]
  },
  {
   "cell_type": "markdown",
   "metadata": {},
   "source": [
    "### 2. What is an appropriate set of hypotheses for this task? What kind of statistical test do you expect to perform? Justify your choices.\n",
    "\n",
    "In here the same set of people were first tested for Congruent words and then the same set of people were tested for Incongruent words. As per the data sheets there is no mention of Population Mean / Standard Deviation, hence t-tests has to be performed, because z-tests are used when we have the Population Mean / Standard Deviation information provided.\n",
    "\n",
    "Hence, going with the t-tests, following is my hypothesis.\n",
    "\n",
    "H0 (Null Hyothesis) : Time taken to identify Congruent or Incongruent words would be approximately equal.\n",
    "##### μI = μC\n",
    "\n",
    "Ha (Alternative Hypothesis) : Time taken to identify Incongruent words would be not equal to time taken to identify the Congruent words.\n",
    "##### μI != μC\n",
    "\n",
    "μC -> Mean of Time taken to identify Congruent words\n",
    "μI -> Mean of Time taken to identify Incongruent words\n",
    "\n",
    "Our goal is the prove the Alternative Hypothesis.\n",
    "\n",
    "### Statistical Test\n",
    "Since my hypothesis mentions that the time taken to identify Incongruent words would be not equal to that of for Congruent words, it would be a \n",
    "1) both-directional\n",
    "2) two-tailed\n",
    "3) Dependent t-test\n",
    "because same set of people are undergoing 2 conditions.\n",
    "\n",
    "I would go with 95% Confidence Interval as chosen always in the Lessons taught.\n",
    "\n",
    "#### Note: This problem looks exactly similar to Lesson 26: L10a-t-tests Part 1: Quiz- Keyboard"
   ]
  },
  {
   "cell_type": "markdown",
   "metadata": {},
   "source": [
    "### 3. Report some descriptive statistics regarding this dataset. Include at least one measure of central tendency and at least one measure of variability."
   ]
  },
  {
   "cell_type": "markdown",
   "metadata": {},
   "source": [
    "### 4. Provide one or two visualizations that show the distribution of the sample data. Write one or two sentences noting what you observe about the plot or plots."
   ]
  },
  {
   "cell_type": "markdown",
   "metadata": {},
   "source": [
    "### 5. Now, perform the statistical test and report your results. What is your confidence level and your critical statistic value? Do you reject the null hypothesis or fail to reject it? Come to a conclusion in terms of the experiment task. Did the results match up with your expectations?"
   ]
  },
  {
   "cell_type": "markdown",
   "metadata": {},
   "source": [
    "### 6. Optional: What do you think is responsible for the effects observed? Can you think of an alternative or similar task that would result in a similar effect? Some research about the problem will be helpful for thinking about these two questions!"
   ]
  },
  {
   "cell_type": "code",
   "execution_count": 2,
   "metadata": {},
   "outputs": [],
   "source": [
    "import pandas as pd"
   ]
  },
  {
   "cell_type": "code",
   "execution_count": 5,
   "metadata": {},
   "outputs": [
    {
     "name": "stdout",
     "output_type": "stream",
     "text": [
      "       Congruent  Incongruent\n",
      "count  24.000000    24.000000\n",
      "mean   14.051125    22.015917\n",
      "std     3.559358     4.797057\n",
      "min     8.630000    15.687000\n",
      "25%    11.895250    18.716750\n",
      "50%    14.356500    21.017500\n",
      "75%    16.200750    24.051500\n",
      "max    22.328000    35.255000\n"
     ]
    }
   ],
   "source": [
    "df = pd.read_csv(\"stroopdata.csv\")\n",
    "print (df.describe())"
   ]
  },
  {
   "cell_type": "code",
   "execution_count": null,
   "metadata": {},
   "outputs": [],
   "source": []
  },
  {
   "cell_type": "markdown",
   "metadata": {},
   "source": [
    "##Reference Section\n",
    "1) https://en.wikipedia.org/wiki/Stroop_effect\n",
    "2) https://keydifferences.com/difference-between-t-test-and-z-test.html"
   ]
  }
 ],
 "metadata": {
  "kernelspec": {
   "display_name": "Python 3",
   "language": "python",
   "name": "python3"
  },
  "language_info": {
   "codemirror_mode": {
    "name": "ipython",
    "version": 3
   },
   "file_extension": ".py",
   "mimetype": "text/x-python",
   "name": "python",
   "nbconvert_exporter": "python",
   "pygments_lexer": "ipython3",
   "version": "3.7.0"
  }
 },
 "nbformat": 4,
 "nbformat_minor": 2
}
