{
 "cells": [
  {
   "cell_type": "code",
   "execution_count": 3,
   "metadata": {},
   "outputs": [
    {
     "name": "stdout",
     "output_type": "stream",
     "text": [
      "1\n",
      "Most Popular Start Hour: 17\n"
     ]
    }
   ],
   "source": [
    "import pandas as pd\n",
    "\n",
    "filename = 'chicago.csv'\n",
    "\n",
    "# load data file into a dataframe\n",
    "df = pd.read_csv(filename)\n",
    "\n",
    "# convert the Start Time column to datetime\n",
    "df['Start Time'] = pd.to_datetime(df['Start Time'])\n",
    "\n",
    "# extract hour from the Start Time column to create an hour column\n",
    "df['hour'] = df['Start Time'].dt.hour\n",
    "\n",
    "# find the most popular hour\n",
    "print (df['hour'].mode())\n",
    "popular_hour = df['hour'].mode()[0]\n",
    "\n",
    "print('Most Popular Start Hour:', popular_hour)"
   ]
  },
  {
   "cell_type": "code",
   "execution_count": null,
   "metadata": {},
   "outputs": [],
   "source": []
  }
 ],
 "metadata": {
  "kernelspec": {
   "display_name": "Python 3",
   "language": "python",
   "name": "python3"
  },
  "language_info": {
   "codemirror_mode": {
    "name": "ipython",
    "version": 3
   },
   "file_extension": ".py",
   "mimetype": "text/x-python",
   "name": "python",
   "nbconvert_exporter": "python",
   "pygments_lexer": "ipython3",
   "version": "3.7.0"
  }
 },
 "nbformat": 4,
 "nbformat_minor": 2
}
