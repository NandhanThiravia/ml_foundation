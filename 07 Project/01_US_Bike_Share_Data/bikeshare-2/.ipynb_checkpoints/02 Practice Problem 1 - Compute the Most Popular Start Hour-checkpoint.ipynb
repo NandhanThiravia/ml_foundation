{
 "cells": [
  {
   "cell_type": "code",
   "execution_count": 1,
   "metadata": {},
   "outputs": [],
   "source": [
    "import pandas as pd"
   ]
  },
  {
   "cell_type": "code",
   "execution_count": 2,
   "metadata": {},
   "outputs": [
    {
     "name": "stdout",
     "output_type": "stream",
     "text": [
      "   Unnamed: 0           Start Time             End Time  Trip Duration  \\\n",
      "0     1423854  2017-06-23 15:09:32  2017-06-23 15:14:53            321   \n",
      "1      955915  2017-05-25 18:19:03  2017-05-25 18:45:53           1610   \n",
      "2        9031  2017-01-04 08:27:49  2017-01-04 08:34:45            416   \n",
      "3      304487  2017-03-06 13:49:38  2017-03-06 13:55:28            350   \n",
      "4       45207  2017-01-17 14:53:07  2017-01-17 15:02:01            534   \n",
      "\n",
      "                   Start Station                   End Station   User Type  \\\n",
      "0           Wood St & Hubbard St       Damen Ave & Chicago Ave  Subscriber   \n",
      "1            Theater on the Lake  Sheffield Ave & Waveland Ave  Subscriber   \n",
      "2             May St & Taylor St           Wood St & Taylor St  Subscriber   \n",
      "3  Christiana Ave & Lawrence Ave  St. Louis Ave & Balmoral Ave  Subscriber   \n",
      "4         Clark St & Randolph St  Desplaines St & Jackson Blvd  Subscriber   \n",
      "\n",
      "   Gender  Birth Year  \n",
      "0    Male      1992.0  \n",
      "1  Female      1992.0  \n",
      "2    Male      1981.0  \n",
      "3    Male      1986.0  \n",
      "4    Male      1975.0  \n"
     ]
    }
   ],
   "source": [
    "filename = 'chicago.csv'\n",
    "\n",
    "# load data file into a dataframe\n",
    "df = pd.read_csv(filename)\n",
    "print(df.head())"
   ]
  },
  {
   "cell_type": "code",
   "execution_count": 3,
   "metadata": {},
   "outputs": [
    {
     "name": "stdout",
     "output_type": "stream",
     "text": [
      "0    2017-06-23 15:09:32\n",
      "1    2017-05-25 18:19:03\n",
      "2    2017-01-04 08:27:49\n",
      "3    2017-03-06 13:49:38\n",
      "4    2017-01-17 14:53:07\n",
      "Name: Start Time, dtype: object\n",
      "0   2017-06-23 15:09:32\n",
      "1   2017-05-25 18:19:03\n",
      "2   2017-01-04 08:27:49\n",
      "3   2017-03-06 13:49:38\n",
      "4   2017-01-17 14:53:07\n",
      "Name: Start Time, dtype: datetime64[ns]\n"
     ]
    }
   ],
   "source": [
    "print (df['Start Time'].head())\n",
    "\n",
    "# convert the Start Time column to datetime\n",
    "df['Start Time'] = pd.to_datetime(df['Start Time'])\n",
    "\n",
    "print (df['Start Time'].head())"
   ]
  },
  {
   "cell_type": "code",
   "execution_count": 4,
   "metadata": {},
   "outputs": [
    {
     "name": "stdout",
     "output_type": "stream",
     "text": [
      "0    15\n",
      "1    18\n",
      "2     8\n",
      "3    13\n",
      "4    14\n",
      "Name: hour, dtype: int64\n",
      "17\n"
     ]
    }
   ],
   "source": [
    "# extract hour from the Start Time column to create an hour column\n",
    "df['hour'] = df['Start Time'].apply(lambda x: x.hour)\n",
    "\n",
    "print (df['hour'].head())\n",
    "print (df['hour'].value_counts().idxmax())"
   ]
  },
  {
   "cell_type": "code",
   "execution_count": 5,
   "metadata": {},
   "outputs": [
    {
     "name": "stdout",
     "output_type": "stream",
     "text": [
      "Most Frequent Start Hour: 17\n"
     ]
    }
   ],
   "source": [
    "# find the most common hour (from 0 to 23)\n",
    "popular_hour = df['hour'].value_counts().idxmax()\n",
    "    \n",
    "print('Most Frequent Start Hour:', popular_hour)"
   ]
  }
 ],
 "metadata": {
  "kernelspec": {
   "display_name": "Python 3",
   "language": "python",
   "name": "python3"
  },
  "language_info": {
   "codemirror_mode": {
    "name": "ipython",
    "version": 3
   },
   "file_extension": ".py",
   "mimetype": "text/x-python",
   "name": "python",
   "nbconvert_exporter": "python",
   "pygments_lexer": "ipython3",
   "version": "3.7.0"
  }
 },
 "nbformat": 4,
 "nbformat_minor": 2
}
