{
 "cells": [
  {
   "cell_type": "code",
   "execution_count": 191,
   "id": "6735cc93",
   "metadata": {},
   "outputs": [
    {
     "name": "stdout",
     "output_type": "stream",
     "text": [
      "[0.68226678 0.90173061 0.25748159 ... 0.651631   0.28000036 0.22483392]\n"
     ]
    }
   ],
   "source": [
    "# Why use NumPy?\n",
    "import time\n",
    "import numpy as np\n",
    "x = np.random.random(100000000)\n",
    "print(x)"
   ]
  },
  {
   "cell_type": "code",
   "execution_count": 206,
   "id": "df997abc",
   "metadata": {},
   "outputs": [
    {
     "name": "stdout",
     "output_type": "stream",
     "text": [
      "7.122959613800049\n"
     ]
    }
   ],
   "source": [
    "# Case 1\n",
    "start = time.time()\n",
    "sum(x) / len(x)\n",
    "print(time.time() - start)"
   ]
  },
  {
   "cell_type": "code",
   "execution_count": 205,
   "id": "af060b05",
   "metadata": {},
   "outputs": [
    {
     "name": "stdout",
     "output_type": "stream",
     "text": [
      "0.11775374412536621\n"
     ]
    }
   ],
   "source": [
    "# Case 2\n",
    "start = time.time()\n",
    "np.mean(x)\n",
    "print(time.time() - start)"
   ]
  },
  {
   "cell_type": "markdown",
   "id": "e52c7c85",
   "metadata": {},
   "source": [
    "### Creating and Saving Numpy NDArray"
   ]
  },
  {
   "cell_type": "code",
   "execution_count": 46,
   "id": "f7124a76",
   "metadata": {},
   "outputs": [
    {
     "name": "stdout",
     "output_type": "stream",
     "text": [
      "dtype:  int32\n",
      "shape:  (5,)\n",
      "size:  5\n",
      "ndim:  1\n"
     ]
    }
   ],
   "source": [
    "np_array = np.array([1,2,3,4,5])\n",
    "\n",
    "print(\"dtype: \", np_array.dtype)\n",
    "print(\"shape: \", np_array.shape)\n",
    "print(\"size: \", np_array.size)\n",
    "print(\"ndim: \", np_array.ndim)"
   ]
  },
  {
   "cell_type": "code",
   "execution_count": 43,
   "id": "b2dc22fc",
   "metadata": {},
   "outputs": [
    {
     "name": "stdout",
     "output_type": "stream",
     "text": [
      "dtype:  int32\n",
      "shape:  (2, 5)\n",
      "size:  10\n",
      "ndim:  2\n"
     ]
    }
   ],
   "source": [
    "np_array_2 = np.array([[1,2,3,4,5], \n",
    "                       [6,7,8,9,10]])\n",
    "print(\"dtype: \", np_array_2.dtype)\n",
    "print(\"shape: \", np_array_2.shape)\n",
    "print(\"size: \", np_array_2.size)\n",
    "print(\"ndim: \", np_array_2.ndim)"
   ]
  },
  {
   "cell_type": "code",
   "execution_count": 42,
   "id": "c853c6b9",
   "metadata": {},
   "outputs": [
    {
     "name": "stdout",
     "output_type": "stream",
     "text": [
      "dtype:  <U11\n",
      "shape:  (2, 5)\n",
      "size:  10\n",
      "ndim:  2\n"
     ]
    }
   ],
   "source": [
    "np_array_2 = np.array([[1,2,3,4,5], \n",
    "                       [6,7,8,9,'hello']])\n",
    "print(\"dtype: \", np_array_2.dtype)\n",
    "print(\"shape: \", np_array_2.shape)\n",
    "print(\"size: \", np_array_2.size)\n",
    "print(\"ndim: \", np_array_2.ndim)"
   ]
  },
  {
   "cell_type": "code",
   "execution_count": 48,
   "id": "891b31d0",
   "metadata": {},
   "outputs": [
    {
     "name": "stdout",
     "output_type": "stream",
     "text": [
      "dtype:  <U11\n",
      "shape:  (2, 5)\n",
      "size:  10\n",
      "ndim:  2\n",
      "np_array_2:  [['1' '2' '3' '4' '5']\n",
      " ['h' 'e' 'l' 'l' 'o']]\n"
     ]
    }
   ],
   "source": [
    "np_array_2 = np.array([[1,2,3,4,5], \n",
    "                       ['h', 'e', 'l', 'l', 'o']])\n",
    "print(\"dtype: \", np_array_2.dtype)\n",
    "print(\"shape: \", np_array_2.shape)\n",
    "print(\"size: \", np_array_2.size)\n",
    "print(\"ndim: \", np_array_2.ndim)\n",
    "\n",
    "# Numpy ndarray can hold only one type of data, as can be seen here\n",
    "print(\"np_array_2: \", np_array_2)"
   ]
  },
  {
   "cell_type": "code",
   "execution_count": 52,
   "id": "f8093bbf",
   "metadata": {},
   "outputs": [
    {
     "name": "stdout",
     "output_type": "stream",
     "text": [
      "x =  ['Hello' 'World']\n",
      "shape: (2,)\n",
      "type: <class 'numpy.ndarray'>\n",
      "dtype: <U5\n",
      "ndim: 1\n"
     ]
    }
   ],
   "source": [
    "# We create a rank 1 ndarray that only contains strings\n",
    "x = np.array(['Hello', 'World'])\n",
    "\n",
    "# We print information about x\n",
    "print('x = ', x)\n",
    "print('shape:', x.shape)\n",
    "print('type:', type(x))\n",
    "print('dtype:', x.dtype)\n",
    "print('ndim:', x.ndim)"
   ]
  },
  {
   "cell_type": "markdown",
   "id": "6ced9010",
   "metadata": {},
   "source": [
    "### Using a 1-D Array to Demonstrate Upcasting in Numeric datatype"
   ]
  },
  {
   "cell_type": "code",
   "execution_count": 58,
   "id": "cef3d72b",
   "metadata": {},
   "outputs": [
    {
     "name": "stdout",
     "output_type": "stream",
     "text": [
      "The elements in x are of type: int32\n",
      "The elements in y are of type: float64\n",
      "The elements in z are of type: float64\n"
     ]
    }
   ],
   "source": [
    "#Example 1.d - Using a 1-D Array of Int and Float\n",
    "\n",
    "# We create a rank 1 ndarray that contains integers\n",
    "x = np.array([1,2,3])\n",
    "\n",
    "# We create a rank 1 ndarray that contains floats\n",
    "y = np.array([1.0,2.0,3.0])\n",
    "\n",
    "# We create a rank 1 ndarray that contains integers and floats\n",
    "z = np.array([1, 2.5, 4])\n",
    "\n",
    "# We print the dtype of each ndarray\n",
    "print('The elements in x are of type:', x.dtype)\n",
    "print('The elements in y are of type:', y.dtype)\n",
    "print('The elements in z are of type:', z.dtype)"
   ]
  },
  {
   "cell_type": "code",
   "execution_count": 63,
   "id": "4e79c31e",
   "metadata": {},
   "outputs": [
    {
     "name": "stdout",
     "output_type": "stream",
     "text": [
      "The elements in x are of type: int64\n"
     ]
    }
   ],
   "source": [
    "#Example 1.d - Using a 1-D Array of Int and Float\n",
    "\n",
    "# We create a rank 1 ndarray that contains floats but forcing them to become int64\n",
    "x = np.array([1.0,2.0,3.0], dtype=np.int64)\n",
    "\n",
    "# We print the dtype of each ndarray\n",
    "print('The elements in x are of type:', x.dtype)"
   ]
  },
  {
   "cell_type": "markdown",
   "id": "267b581d",
   "metadata": {},
   "source": [
    "### Save the NumPy array to a File and then read it back"
   ]
  },
  {
   "cell_type": "code",
   "execution_count": 69,
   "id": "c6760dcd",
   "metadata": {},
   "outputs": [],
   "source": [
    "# We create a rank 1 ndarray\n",
    "x = np.array([1, 2, 3, 4, 5])\n",
    "\n",
    "# We save x into the current directory as \n",
    "np.save('x', x)"
   ]
  },
  {
   "cell_type": "code",
   "execution_count": 71,
   "id": "8b29286f",
   "metadata": {},
   "outputs": [
    {
     "name": "stdout",
     "output_type": "stream",
     "text": [
      "\n",
      "y =  [1 2 3 4 5]\n",
      "\n",
      "y is an object of type: <class 'numpy.ndarray'>\n",
      "The elements in y are of type: int32\n"
     ]
    }
   ],
   "source": [
    "# We load the saved array from our current directory into variable y\n",
    "y = np.load('x.npy')\n",
    "\n",
    "# We print y\n",
    "print()\n",
    "print('y = ', y)\n",
    "print()\n",
    "\n",
    "# We print information about the ndarray we loaded\n",
    "print('y is an object of type:', type(y))\n",
    "print('The elements in y are of type:', y.dtype)"
   ]
  },
  {
   "cell_type": "markdown",
   "id": "8fd42e9b",
   "metadata": {},
   "source": [
    "### Numpy ndarray using built-in functions"
   ]
  },
  {
   "cell_type": "code",
   "execution_count": 85,
   "id": "de05951a",
   "metadata": {},
   "outputs": [
    {
     "name": "stdout",
     "output_type": "stream",
     "text": [
      "[[0. 0. 0.]\n",
      " [0. 0. 0.]]\n",
      "dtype:  float64\n"
     ]
    }
   ],
   "source": [
    "#The shape has to be a tuple\n",
    "shape = (2,3)\n",
    "\n",
    "x = np.zeros(shape)\n",
    "print(x)\n",
    "print(\"dtype: \", x.dtype)"
   ]
  },
  {
   "cell_type": "code",
   "execution_count": 90,
   "id": "8e140dbb",
   "metadata": {},
   "outputs": [
    {
     "name": "stdout",
     "output_type": "stream",
     "text": [
      "[[0 0 0]\n",
      " [0 0 0]]\n",
      "dtype:  int64\n"
     ]
    }
   ],
   "source": [
    "x = np.zeros(shape, dtype=np.int64)\n",
    "print(x)\n",
    "print(\"dtype: \", x.dtype)"
   ]
  },
  {
   "cell_type": "code",
   "execution_count": 94,
   "id": "35ad39ad",
   "metadata": {},
   "outputs": [
    {
     "name": "stdout",
     "output_type": "stream",
     "text": [
      "[[1 1 1]\n",
      " [1 1 1]]\n",
      "dtype:  int64\n"
     ]
    }
   ],
   "source": [
    "# Fill the array using just 1s\n",
    "x = np.ones(shape, dtype=np.int64)\n",
    "print(x)\n",
    "print(\"dtype: \", x.dtype)"
   ]
  },
  {
   "cell_type": "code",
   "execution_count": 97,
   "id": "ebcee604",
   "metadata": {},
   "outputs": [
    {
     "name": "stdout",
     "output_type": "stream",
     "text": [
      "[[5 5 5]\n",
      " [5 5 5]]\n",
      "dtype:  int32\n"
     ]
    }
   ],
   "source": [
    "# Fill the array using constants\n",
    "x = np.full(shape, 5)\n",
    "print(x)\n",
    "print(\"dtype: \", x.dtype)"
   ]
  },
  {
   "cell_type": "code",
   "execution_count": 99,
   "id": "6fba0593",
   "metadata": {},
   "outputs": [
    {
     "name": "stdout",
     "output_type": "stream",
     "text": [
      "[[5. 5. 5.]\n",
      " [5. 5. 5.]]\n",
      "dtype:  float64\n"
     ]
    }
   ],
   "source": [
    "# Fill the array using constants\n",
    "x = np.full(shape, 5.0)\n",
    "print(x)\n",
    "print(\"dtype: \", x.dtype)"
   ]
  },
  {
   "cell_type": "code",
   "execution_count": 103,
   "id": "7263b97c",
   "metadata": {},
   "outputs": [
    {
     "name": "stdout",
     "output_type": "stream",
     "text": [
      "[['hello' 'hello' 'hello']\n",
      " ['hello' 'hello' 'hello']]\n",
      "dtype:  <U5\n"
     ]
    }
   ],
   "source": [
    "# Fill the array using constants\n",
    "x = np.full(shape, \"hello\")\n",
    "print(x)\n",
    "print(\"dtype: \", x.dtype)"
   ]
  },
  {
   "cell_type": "markdown",
   "id": "42688e2f",
   "metadata": {},
   "source": [
    "### Identity Matrix\n",
    "Contains 1 along the diagonal"
   ]
  },
  {
   "cell_type": "code",
   "execution_count": 109,
   "id": "3a9bf24b",
   "metadata": {},
   "outputs": [
    {
     "name": "stdout",
     "output_type": "stream",
     "text": [
      "[[1. 0. 0. 0. 0.]\n",
      " [0. 1. 0. 0. 0.]\n",
      " [0. 0. 1. 0. 0.]\n",
      " [0. 0. 0. 1. 0.]\n",
      " [0. 0. 0. 0. 1.]]\n"
     ]
    }
   ],
   "source": [
    "# Eye creates a square matrix, so passing of 5 means a matrix of shape(5, 5) with 1s along the diagonal gets created\n",
    "x = np.eye(5)\n",
    "print(x)"
   ]
  },
  {
   "cell_type": "code",
   "execution_count": 111,
   "id": "04da373c",
   "metadata": {},
   "outputs": [
    {
     "name": "stdout",
     "output_type": "stream",
     "text": [
      "[[10  0  0]\n",
      " [ 0 20  0]\n",
      " [ 0  0 30]]\n"
     ]
    }
   ],
   "source": [
    "# The list when passed would be present in the diagonal \n",
    "# and the lenght of the list would become the shape of the matrix as square matrix\n",
    "\n",
    "x = np.diag([10, 20, 30])\n",
    "print(x)"
   ]
  },
  {
   "cell_type": "markdown",
   "id": "629de46b",
   "metadata": {},
   "source": [
    "### Arange - To create matrix with numbers"
   ]
  },
  {
   "cell_type": "code",
   "execution_count": 115,
   "id": "02e50a04",
   "metadata": {},
   "outputs": [
    {
     "name": "stdout",
     "output_type": "stream",
     "text": [
      "[0 1 2 3 4 5 6 7 8 9]\n"
     ]
    }
   ],
   "source": [
    "x = np.arange(10)\n",
    "print(x)"
   ]
  },
  {
   "cell_type": "code",
   "execution_count": 116,
   "id": "ad0dc2cf",
   "metadata": {},
   "outputs": [
    {
     "name": "stdout",
     "output_type": "stream",
     "text": [
      "[5 6 7 8 9]\n"
     ]
    }
   ],
   "source": [
    "x = np.arange(5, 10)\n",
    "print(x)"
   ]
  },
  {
   "cell_type": "code",
   "execution_count": 117,
   "id": "10190a18",
   "metadata": {},
   "outputs": [
    {
     "name": "stdout",
     "output_type": "stream",
     "text": [
      "[ 5 10 15 20 25 30 35 40 45 50 55 60 65 70 75 80 85 90 95]\n"
     ]
    }
   ],
   "source": [
    "x = np.arange(5, 100, 5)\n",
    "print(x)"
   ]
  },
  {
   "cell_type": "code",
   "execution_count": 119,
   "id": "8592d6a9",
   "metadata": {
    "scrolled": true
   },
   "outputs": [
    {
     "name": "stdout",
     "output_type": "stream",
     "text": [
      "Help on built-in function arange in module numpy:\n",
      "\n",
      "arange(...)\n",
      "    arange([start,] stop[, step,], dtype=None, *, like=None)\n",
      "    \n",
      "    Return evenly spaced values within a given interval.\n",
      "    \n",
      "    Values are generated within the half-open interval ``[start, stop)``\n",
      "    (in other words, the interval including `start` but excluding `stop`).\n",
      "    For integer arguments the function is equivalent to the Python built-in\n",
      "    `range` function, but returns an ndarray rather than a list.\n",
      "    \n",
      "    When using a non-integer step, such as 0.1, the results will often not\n",
      "    be consistent.  It is better to use `numpy.linspace` for these cases.\n",
      "    \n",
      "    Parameters\n",
      "    ----------\n",
      "    start : integer or real, optional\n",
      "        Start of interval.  The interval includes this value.  The default\n",
      "        start value is 0.\n",
      "    stop : integer or real\n",
      "        End of interval.  The interval does not include this value, except\n",
      "        in some cases where `step` is not an integer and floating point\n",
      "        round-off affects the length of `out`.\n",
      "    step : integer or real, optional\n",
      "        Spacing between values.  For any output `out`, this is the distance\n",
      "        between two adjacent values, ``out[i+1] - out[i]``.  The default\n",
      "        step size is 1.  If `step` is specified as a position argument,\n",
      "        `start` must also be given.\n",
      "    dtype : dtype\n",
      "        The type of the output array.  If `dtype` is not given, infer the data\n",
      "        type from the other input arguments.\n",
      "    like : array_like\n",
      "        Reference object to allow the creation of arrays which are not\n",
      "        NumPy arrays. If an array-like passed in as ``like`` supports\n",
      "        the ``__array_function__`` protocol, the result will be defined\n",
      "        by it. In this case, it ensures the creation of an array object\n",
      "        compatible with that passed in via this argument.\n",
      "    \n",
      "        .. versionadded:: 1.20.0\n",
      "    \n",
      "    Returns\n",
      "    -------\n",
      "    arange : ndarray\n",
      "        Array of evenly spaced values.\n",
      "    \n",
      "        For floating point arguments, the length of the result is\n",
      "        ``ceil((stop - start)/step)``.  Because of floating point overflow,\n",
      "        this rule may result in the last element of `out` being greater\n",
      "        than `stop`.\n",
      "    \n",
      "    See Also\n",
      "    --------\n",
      "    numpy.linspace : Evenly spaced numbers with careful handling of endpoints.\n",
      "    numpy.ogrid: Arrays of evenly spaced numbers in N-dimensions.\n",
      "    numpy.mgrid: Grid-shaped arrays of evenly spaced numbers in N-dimensions.\n",
      "    \n",
      "    Examples\n",
      "    --------\n",
      "    >>> np.arange(3)\n",
      "    array([0, 1, 2])\n",
      "    >>> np.arange(3.0)\n",
      "    array([ 0.,  1.,  2.])\n",
      "    >>> np.arange(3,7)\n",
      "    array([3, 4, 5, 6])\n",
      "    >>> np.arange(3,7,2)\n",
      "    array([3, 5])\n",
      "\n"
     ]
    }
   ],
   "source": [
    "help(np.arange)"
   ]
  },
  {
   "cell_type": "markdown",
   "id": "6628f3b0",
   "metadata": {},
   "source": [
    "### linspace - Create an array with equally spaced values"
   ]
  },
  {
   "cell_type": "code",
   "execution_count": 148,
   "id": "011a8c46",
   "metadata": {
    "scrolled": true
   },
   "outputs": [
    {
     "name": "stdout",
     "output_type": "stream",
     "text": [
      "Help on function linspace in module numpy:\n",
      "\n",
      "linspace(start, stop, num=50, endpoint=True, retstep=False, dtype=None, axis=0)\n",
      "    Return evenly spaced numbers over a specified interval.\n",
      "    \n",
      "    Returns `num` evenly spaced samples, calculated over the\n",
      "    interval [`start`, `stop`].\n",
      "    \n",
      "    The endpoint of the interval can optionally be excluded.\n",
      "    \n",
      "    .. versionchanged:: 1.16.0\n",
      "        Non-scalar `start` and `stop` are now supported.\n",
      "    \n",
      "    .. versionchanged:: 1.20.0\n",
      "        Values are rounded towards ``-inf`` instead of ``0`` when an\n",
      "        integer ``dtype`` is specified. The old behavior can\n",
      "        still be obtained with ``np.linspace(start, stop, num).astype(int)``\n",
      "    \n",
      "    Parameters\n",
      "    ----------\n",
      "    start : array_like\n",
      "        The starting value of the sequence.\n",
      "    stop : array_like\n",
      "        The end value of the sequence, unless `endpoint` is set to False.\n",
      "        In that case, the sequence consists of all but the last of ``num + 1``\n",
      "        evenly spaced samples, so that `stop` is excluded.  Note that the step\n",
      "        size changes when `endpoint` is False.\n",
      "    num : int, optional\n",
      "        Number of samples to generate. Default is 50. Must be non-negative.\n",
      "    endpoint : bool, optional\n",
      "        If True, `stop` is the last sample. Otherwise, it is not included.\n",
      "        Default is True.\n",
      "    retstep : bool, optional\n",
      "        If True, return (`samples`, `step`), where `step` is the spacing\n",
      "        between samples.\n",
      "    dtype : dtype, optional\n",
      "        The type of the output array.  If `dtype` is not given, the data type\n",
      "        is inferred from `start` and `stop`. The inferred dtype will never be\n",
      "        an integer; `float` is chosen even if the arguments would produce an\n",
      "        array of integers.\n",
      "    \n",
      "        .. versionadded:: 1.9.0\n",
      "    \n",
      "    axis : int, optional\n",
      "        The axis in the result to store the samples.  Relevant only if start\n",
      "        or stop are array-like.  By default (0), the samples will be along a\n",
      "        new axis inserted at the beginning. Use -1 to get an axis at the end.\n",
      "    \n",
      "        .. versionadded:: 1.16.0\n",
      "    \n",
      "    Returns\n",
      "    -------\n",
      "    samples : ndarray\n",
      "        There are `num` equally spaced samples in the closed interval\n",
      "        ``[start, stop]`` or the half-open interval ``[start, stop)``\n",
      "        (depending on whether `endpoint` is True or False).\n",
      "    step : float, optional\n",
      "        Only returned if `retstep` is True\n",
      "    \n",
      "        Size of spacing between samples.\n",
      "    \n",
      "    \n",
      "    See Also\n",
      "    --------\n",
      "    arange : Similar to `linspace`, but uses a step size (instead of the\n",
      "             number of samples).\n",
      "    geomspace : Similar to `linspace`, but with numbers spaced evenly on a log\n",
      "                scale (a geometric progression).\n",
      "    logspace : Similar to `geomspace`, but with the end points specified as\n",
      "               logarithms.\n",
      "    \n",
      "    Examples\n",
      "    --------\n",
      "    >>> np.linspace(2.0, 3.0, num=5)\n",
      "    array([2.  , 2.25, 2.5 , 2.75, 3.  ])\n",
      "    >>> np.linspace(2.0, 3.0, num=5, endpoint=False)\n",
      "    array([2. ,  2.2,  2.4,  2.6,  2.8])\n",
      "    >>> np.linspace(2.0, 3.0, num=5, retstep=True)\n",
      "    (array([2.  ,  2.25,  2.5 ,  2.75,  3.  ]), 0.25)\n",
      "    \n",
      "    Graphical illustration:\n",
      "    \n",
      "    >>> import matplotlib.pyplot as plt\n",
      "    >>> N = 8\n",
      "    >>> y = np.zeros(N)\n",
      "    >>> x1 = np.linspace(0, 10, N, endpoint=True)\n",
      "    >>> x2 = np.linspace(0, 10, N, endpoint=False)\n",
      "    >>> plt.plot(x1, y, 'o')\n",
      "    [<matplotlib.lines.Line2D object at 0x...>]\n",
      "    >>> plt.plot(x2, y + 0.5, 'o')\n",
      "    [<matplotlib.lines.Line2D object at 0x...>]\n",
      "    >>> plt.ylim([-0.5, 1])\n",
      "    (-0.5, 1)\n",
      "    >>> plt.show()\n",
      "\n"
     ]
    }
   ],
   "source": [
    "help(np.linspace)"
   ]
  },
  {
   "cell_type": "code",
   "execution_count": 138,
   "id": "c0be0a4e",
   "metadata": {},
   "outputs": [
    {
     "name": "stdout",
     "output_type": "stream",
     "text": [
      "[ 1.  5.  9. 13. 17. 21. 25.]\n"
     ]
    }
   ],
   "source": [
    "x = np.linspace(1, 25, num=7)\n",
    "print(x)"
   ]
  },
  {
   "cell_type": "code",
   "execution_count": 139,
   "id": "b852eae4",
   "metadata": {},
   "outputs": [
    {
     "name": "stdout",
     "output_type": "stream",
     "text": [
      "[ 1.          4.42857143  7.85714286 11.28571429 14.71428571 18.14285714\n",
      " 21.57142857]\n"
     ]
    }
   ],
   "source": [
    "x = np.linspace(1, 25, num=7, endpoint=False)\n",
    "print(x)"
   ]
  },
  {
   "cell_type": "markdown",
   "id": "10be038f",
   "metadata": {},
   "source": [
    "### Change the Dimensions"
   ]
  },
  {
   "cell_type": "code",
   "execution_count": 147,
   "id": "3ef8b470",
   "metadata": {},
   "outputs": [
    {
     "name": "stdout",
     "output_type": "stream",
     "text": [
      "[ 0  1  2  3  4  5  6  7  8  9 10 11 12 13 14 15 16 17 18 19]\n",
      "\n",
      "shape:  (20,)\n"
     ]
    }
   ],
   "source": [
    "x = np.arange(20)\n",
    "print(x)\n",
    "print(\"\\nshape: \", x.shape)"
   ]
  },
  {
   "cell_type": "code",
   "execution_count": 149,
   "id": "f3618e63",
   "metadata": {},
   "outputs": [
    {
     "name": "stdout",
     "output_type": "stream",
     "text": [
      "[[ 0  1  2  3]\n",
      " [ 4  5  6  7]\n",
      " [ 8  9 10 11]\n",
      " [12 13 14 15]\n",
      " [16 17 18 19]]\n",
      "\n",
      "shape:  (5, 4)\n"
     ]
    }
   ],
   "source": [
    "x = np.reshape(x, (5, 4))\n",
    "print(x)\n",
    "print(\"\\nshape: \", x.shape)"
   ]
  },
  {
   "cell_type": "code",
   "execution_count": 151,
   "id": "0cb01b63",
   "metadata": {},
   "outputs": [
    {
     "name": "stdout",
     "output_type": "stream",
     "text": [
      "[[ 0  1  2  3]\n",
      " [ 4  5  6  7]\n",
      " [ 8  9 10 11]\n",
      " [12 13 14 15]\n",
      " [16 17 18 19]]\n",
      "\n",
      "shape:  (5, 4)\n"
     ]
    }
   ],
   "source": [
    "# Create array\n",
    "x = np.arange(20)\n",
    "\n",
    "# Change the shape\n",
    "x = x.reshape((5, 4))\n",
    "print(x)\n",
    "print(\"\\nshape: \", x.shape)"
   ]
  },
  {
   "cell_type": "markdown",
   "id": "e6c7e60b",
   "metadata": {},
   "source": [
    "### random - Create ndarray with random values"
   ]
  },
  {
   "cell_type": "code",
   "execution_count": 155,
   "id": "f18718a8",
   "metadata": {},
   "outputs": [
    {
     "name": "stdout",
     "output_type": "stream",
     "text": [
      "Help on built-in function random:\n",
      "\n",
      "random(...) method of numpy.random.mtrand.RandomState instance\n",
      "    random(size=None)\n",
      "    \n",
      "    Return random floats in the half-open interval [0.0, 1.0). Alias for\n",
      "    `random_sample` to ease forward-porting to the new random API.\n",
      "\n"
     ]
    }
   ],
   "source": [
    "help(np.random.random)"
   ]
  },
  {
   "cell_type": "code",
   "execution_count": 165,
   "id": "8057751d",
   "metadata": {},
   "outputs": [
    {
     "name": "stdout",
     "output_type": "stream",
     "text": [
      "[[0.10392463 0.0495523  0.49351957]\n",
      " [0.15043654 0.36206618 0.46597246]\n",
      " [0.85157067 0.30467305 0.13498677]]\n"
     ]
    }
   ],
   "source": [
    "x = np.random.random((3,3))\n",
    "print(x)"
   ]
  },
  {
   "cell_type": "code",
   "execution_count": 168,
   "id": "d8f5fae8",
   "metadata": {},
   "outputs": [
    {
     "name": "stdout",
     "output_type": "stream",
     "text": [
      "[[33 26 50 76 76 57  1 74 66 17]\n",
      " [48  7 87 52 47 22 53 34 67 84]\n",
      " [10 85  5 73  3 28 78 57 18 81]\n",
      " [24 78 19 13 43 14  9 48 71 82]\n",
      " [86 87 41 90  6  6  8 31 54 55]\n",
      " [56 91 90 18 96 15 13 95 19 52]\n",
      " [70 41  3 40 38 44 69  8 11 98]\n",
      " [11 22 63 23 67  4 30  2 23  9]\n",
      " [93 83 37 92 23 75 16 45 57 27]\n",
      " [22 65  4  7 11  6 75  9 63 65]]\n"
     ]
    }
   ],
   "source": [
    "# Create ndarray of shape 10 x 10 with start as 1 (inclusive) and stop as 100 (exclusive)\n",
    "x = np.random.randint(1, 100, (10,10))\n",
    "print(x)"
   ]
  },
  {
   "cell_type": "code",
   "execution_count": 170,
   "id": "886a3806",
   "metadata": {
    "scrolled": true
   },
   "outputs": [
    {
     "name": "stdout",
     "output_type": "stream",
     "text": [
      "Help on built-in function normal:\n",
      "\n",
      "normal(...) method of numpy.random.mtrand.RandomState instance\n",
      "    normal(loc=0.0, scale=1.0, size=None)\n",
      "    \n",
      "    Draw random samples from a normal (Gaussian) distribution.\n",
      "    \n",
      "    The probability density function of the normal distribution, first\n",
      "    derived by De Moivre and 200 years later by both Gauss and Laplace\n",
      "    independently [2]_, is often called the bell curve because of\n",
      "    its characteristic shape (see the example below).\n",
      "    \n",
      "    The normal distributions occurs often in nature.  For example, it\n",
      "    describes the commonly occurring distribution of samples influenced\n",
      "    by a large number of tiny, random disturbances, each with its own\n",
      "    unique distribution [2]_.\n",
      "    \n",
      "    .. note::\n",
      "        New code should use the ``normal`` method of a ``default_rng()``\n",
      "        instance instead; please see the :ref:`random-quick-start`.\n",
      "    \n",
      "    Parameters\n",
      "    ----------\n",
      "    loc : float or array_like of floats\n",
      "        Mean (\"centre\") of the distribution.\n",
      "    scale : float or array_like of floats\n",
      "        Standard deviation (spread or \"width\") of the distribution. Must be\n",
      "        non-negative.\n",
      "    size : int or tuple of ints, optional\n",
      "        Output shape.  If the given shape is, e.g., ``(m, n, k)``, then\n",
      "        ``m * n * k`` samples are drawn.  If size is ``None`` (default),\n",
      "        a single value is returned if ``loc`` and ``scale`` are both scalars.\n",
      "        Otherwise, ``np.broadcast(loc, scale).size`` samples are drawn.\n",
      "    \n",
      "    Returns\n",
      "    -------\n",
      "    out : ndarray or scalar\n",
      "        Drawn samples from the parameterized normal distribution.\n",
      "    \n",
      "    See Also\n",
      "    --------\n",
      "    scipy.stats.norm : probability density function, distribution or\n",
      "        cumulative density function, etc.\n",
      "    Generator.normal: which should be used for new code.\n",
      "    \n",
      "    Notes\n",
      "    -----\n",
      "    The probability density for the Gaussian distribution is\n",
      "    \n",
      "    .. math:: p(x) = \\frac{1}{\\sqrt{ 2 \\pi \\sigma^2 }}\n",
      "                     e^{ - \\frac{ (x - \\mu)^2 } {2 \\sigma^2} },\n",
      "    \n",
      "    where :math:`\\mu` is the mean and :math:`\\sigma` the standard\n",
      "    deviation. The square of the standard deviation, :math:`\\sigma^2`,\n",
      "    is called the variance.\n",
      "    \n",
      "    The function has its peak at the mean, and its \"spread\" increases with\n",
      "    the standard deviation (the function reaches 0.607 times its maximum at\n",
      "    :math:`x + \\sigma` and :math:`x - \\sigma` [2]_).  This implies that\n",
      "    normal is more likely to return samples lying close to the mean, rather\n",
      "    than those far away.\n",
      "    \n",
      "    References\n",
      "    ----------\n",
      "    .. [1] Wikipedia, \"Normal distribution\",\n",
      "           https://en.wikipedia.org/wiki/Normal_distribution\n",
      "    .. [2] P. R. Peebles Jr., \"Central Limit Theorem\" in \"Probability,\n",
      "           Random Variables and Random Signal Principles\", 4th ed., 2001,\n",
      "           pp. 51, 51, 125.\n",
      "    \n",
      "    Examples\n",
      "    --------\n",
      "    Draw samples from the distribution:\n",
      "    \n",
      "    >>> mu, sigma = 0, 0.1 # mean and standard deviation\n",
      "    >>> s = np.random.normal(mu, sigma, 1000)\n",
      "    \n",
      "    Verify the mean and the variance:\n",
      "    \n",
      "    >>> abs(mu - np.mean(s))\n",
      "    0.0  # may vary\n",
      "    \n",
      "    >>> abs(sigma - np.std(s, ddof=1))\n",
      "    0.1  # may vary\n",
      "    \n",
      "    Display the histogram of the samples, along with\n",
      "    the probability density function:\n",
      "    \n",
      "    >>> import matplotlib.pyplot as plt\n",
      "    >>> count, bins, ignored = plt.hist(s, 30, density=True)\n",
      "    >>> plt.plot(bins, 1/(sigma * np.sqrt(2 * np.pi)) *\n",
      "    ...                np.exp( - (bins - mu)**2 / (2 * sigma**2) ),\n",
      "    ...          linewidth=2, color='r')\n",
      "    >>> plt.show()\n",
      "    \n",
      "    Two-by-four array of samples from N(3, 6.25):\n",
      "    \n",
      "    >>> np.random.normal(3, 2.5, size=(2, 4))\n",
      "    array([[-4.49401501,  4.00950034, -1.81814867,  7.29718677],   # random\n",
      "           [ 0.39924804,  4.68456316,  4.99394529,  4.84057254]])  # random\n",
      "\n"
     ]
    }
   ],
   "source": [
    "help(np.random.normal)"
   ]
  },
  {
   "cell_type": "code",
   "execution_count": 189,
   "id": "0956cbc5",
   "metadata": {},
   "outputs": [
    {
     "name": "stdout",
     "output_type": "stream",
     "text": [
      "[[-0.12938296  0.31927413  0.16464757  0.22589022  0.12897991]\n",
      " [ 0.02304656 -0.21736191 -0.48285167  0.06880245  0.0405828 ]\n",
      " [-0.39691819  0.51539392 -0.27974925 -0.245192    0.20294637]\n",
      " [ 0.29547502  0.01083145  0.18987598  0.27767227  0.00617368]\n",
      " [ 0.14168365 -0.02761444  0.07094087 -0.27531326  0.3702932 ]]\n",
      "mean:  0.039925054844481694\n",
      "std:  0.245197145970111\n",
      "min:  -0.4828516718402335\n",
      "max:  0.5153939160202535\n"
     ]
    }
   ],
   "source": [
    "x = np.random.normal(loc=0, scale=0.25, size=(5, 5))\n",
    "print(x)\n",
    "print(\"mean: \", x.mean())\n",
    "print(\"std: \", x.std())\n",
    "print(\"min: \", x.min())\n",
    "print(\"max: \", x.max())"
   ]
  },
  {
   "cell_type": "code",
   "execution_count": 207,
   "id": "6daf0099",
   "metadata": {},
   "outputs": [
    {
     "name": "stdout",
     "output_type": "stream",
     "text": [
      "100000000\n",
      "0\n"
     ]
    }
   ],
   "source": [
    "print((x>0).sum())\n",
    "print((x<0).sum())"
   ]
  },
  {
   "cell_type": "markdown",
   "id": "1bd15a73",
   "metadata": {},
   "source": [
    "### 3D Array"
   ]
  },
  {
   "cell_type": "code",
   "execution_count": 209,
   "id": "56c7818e",
   "metadata": {},
   "outputs": [
    {
     "name": "stdout",
     "output_type": "stream",
     "text": [
      "[[[ 0  1  2]\n",
      "  [ 3  4  5]\n",
      "  [ 6  7  8]]\n",
      "\n",
      " [[ 9 10 11]\n",
      "  [12 13 14]\n",
      "  [15 16 17]]\n",
      "\n",
      " [[18 19 20]\n",
      "  [21 22 23]\n",
      "  [24 25 26]]]\n",
      "\n",
      "shape:  (3, 3, 3)\n"
     ]
    }
   ],
   "source": [
    "# Create array\n",
    "x = np.arange(27)\n",
    "\n",
    "# Change the shape\n",
    "x = x.reshape((3, 3, 3))\n",
    "print(x)\n",
    "print(\"\\nshape: \", x.shape)"
   ]
  },
  {
   "cell_type": "code",
   "execution_count": 212,
   "id": "c211d9cc",
   "metadata": {},
   "outputs": [
    {
     "data": {
      "text/plain": [
       "array([[0, 1, 2],\n",
       "       [3, 4, 5],\n",
       "       [6, 7, 8]])"
      ]
     },
     "execution_count": 212,
     "metadata": {},
     "output_type": "execute_result"
    }
   ],
   "source": [
    "x[0]"
   ]
  },
  {
   "cell_type": "code",
   "execution_count": 214,
   "id": "79845fd7",
   "metadata": {},
   "outputs": [
    {
     "data": {
      "text/plain": [
       "array([3, 4, 5])"
      ]
     },
     "execution_count": 214,
     "metadata": {},
     "output_type": "execute_result"
    }
   ],
   "source": [
    "x[0][1]"
   ]
  },
  {
   "cell_type": "code",
   "execution_count": 220,
   "id": "11fda2a7",
   "metadata": {},
   "outputs": [
    {
     "data": {
      "text/plain": [
       "5"
      ]
     },
     "execution_count": 220,
     "metadata": {},
     "output_type": "execute_result"
    }
   ],
   "source": [
    "x[0][1][2]"
   ]
  },
  {
   "cell_type": "markdown",
   "id": "6d9cdd64",
   "metadata": {},
   "source": [
    "### Accessing, Deleting, and Inserting Elements Into ndarrays"
   ]
  },
  {
   "cell_type": "markdown",
   "id": "d69bdd45",
   "metadata": {},
   "source": [
    "#### Accessing and Modifying"
   ]
  },
  {
   "cell_type": "code",
   "execution_count": 221,
   "id": "ddeb7b28",
   "metadata": {},
   "outputs": [
    {
     "name": "stdout",
     "output_type": "stream",
     "text": [
      "[1 2 3 4 5]\n"
     ]
    }
   ],
   "source": [
    "x = np.array([1,2,3,4,5])\n",
    "print(x)"
   ]
  },
  {
   "cell_type": "code",
   "execution_count": 225,
   "id": "07aa1383",
   "metadata": {},
   "outputs": [
    {
     "name": "stdout",
     "output_type": "stream",
     "text": [
      "0th element: 1\n",
      "0th element: 3\n",
      "0th element: 5\n"
     ]
    }
   ],
   "source": [
    "print(\"0th element:\", x[0])\n",
    "print(\"0th element:\", x[2])\n",
    "print(\"0th element:\", x[4])"
   ]
  },
  {
   "cell_type": "code",
   "execution_count": 228,
   "id": "2ee97f43",
   "metadata": {},
   "outputs": [
    {
     "name": "stdout",
     "output_type": "stream",
     "text": [
      "0th element: 1\n",
      "0th element: 3\n",
      "0th element: 5\n"
     ]
    }
   ],
   "source": [
    "print(\"0th element:\", x[-5])\n",
    "print(\"0th element:\", x[-3])\n",
    "print(\"0th element:\", x[-1])"
   ]
  },
  {
   "cell_type": "code",
   "execution_count": 232,
   "id": "578cfb42",
   "metadata": {},
   "outputs": [
    {
     "name": "stdout",
     "output_type": "stream",
     "text": [
      "[[ 0  1  2]\n",
      " [ 3  4  5]\n",
      " [ 6  7  8]\n",
      " [ 9 10 11]]\n"
     ]
    }
   ],
   "source": [
    "x = np.arange(0, 12).reshape(4, 3)\n",
    "print(x)"
   ]
  },
  {
   "cell_type": "code",
   "execution_count": 234,
   "id": "5bcd177e",
   "metadata": {},
   "outputs": [
    {
     "name": "stdout",
     "output_type": "stream",
     "text": [
      "x[0,0]: 0\n",
      "x[1,2]: 5\n"
     ]
    }
   ],
   "source": [
    "print(\"x[0,0]:\", x[0,0])\n",
    "print(\"x[1,2]:\", x[1,2])"
   ]
  },
  {
   "cell_type": "code",
   "execution_count": 238,
   "id": "66b42b55",
   "metadata": {},
   "outputs": [
    {
     "name": "stdout",
     "output_type": "stream",
     "text": [
      "[[ 0  1  2]\n",
      " [ 3  4 50]\n",
      " [ 6  7  8]\n",
      " [ 9 10 11]]\n"
     ]
    }
   ],
   "source": [
    "x[1,2] = 50\n",
    "print(x)"
   ]
  },
  {
   "cell_type": "markdown",
   "id": "cbb00942",
   "metadata": {},
   "source": [
    "#### Deleting"
   ]
  },
  {
   "cell_type": "code",
   "execution_count": 240,
   "id": "589f47a8",
   "metadata": {},
   "outputs": [
    {
     "name": "stdout",
     "output_type": "stream",
     "text": [
      "[ 0  1  2  3  4  5  6  7  8  9 10 11]\n",
      "[ 1  2  3  5  6  8  9 10 11]\n"
     ]
    }
   ],
   "source": [
    "x = np.arange(0, 12)\n",
    "print(x)\n",
    "\n",
    "x = np.delete(x, [0, 4, 7])\n",
    "print(x)"
   ]
  },
  {
   "cell_type": "code",
   "execution_count": 248,
   "id": "bdd4315b",
   "metadata": {},
   "outputs": [
    {
     "name": "stdout",
     "output_type": "stream",
     "text": [
      "x=\n",
      " [[0 1 2]\n",
      " [3 4 5]\n",
      " [6 7 8]]\n",
      "\n",
      "y=\n",
      " [[3 4 5]\n",
      " [6 7 8]]\n",
      "\n",
      "z=\n",
      " [[1 2]\n",
      " [4 5]\n",
      " [7 8]]\n",
      "\n",
      "w=\n",
      " [[3 4 5]]\n",
      "\n",
      "h=\n",
      " [[1]\n",
      " [4]\n",
      " [7]]\n"
     ]
    }
   ],
   "source": [
    "x = np.arange(0, 9).reshape(3, 3)\n",
    "print(\"x=\\n\", x)\n",
    "\n",
    "# Delete Row\n",
    "y = np.delete(x, [0], axis=0)\n",
    "print(\"\\ny=\\n\",y)\n",
    "\n",
    "# Delete Column\n",
    "z = np.delete(x, [0], axis=1)\n",
    "print(\"\\nz=\\n\",z)\n",
    "\n",
    "# Delete Multiple rows\n",
    "w = np.delete(x, [0, 2], axis=0)\n",
    "print(\"\\nw=\\n\",w)\n",
    "\n",
    "# Delete Multiple columns\n",
    "h = np.delete(x, [0, 2], axis=1)\n",
    "print(\"\\nh=\\n\",h)\n"
   ]
  },
  {
   "cell_type": "markdown",
   "id": "c16f78c4",
   "metadata": {},
   "source": [
    "#### Appending Rows and Columns at the end"
   ]
  },
  {
   "cell_type": "code",
   "execution_count": 249,
   "id": "5a911313",
   "metadata": {},
   "outputs": [
    {
     "name": "stdout",
     "output_type": "stream",
     "text": [
      "[ 0  1  2  3  4  5  6  7  8  9 10 11]\n",
      "[ 0  1  2  3  4  5  6  7  8  9 10 11 15 16]\n"
     ]
    }
   ],
   "source": [
    "x = np.arange(12)\n",
    "print(x)\n",
    "\n",
    "x = np.append(x, [15, 16])\n",
    "print(x)"
   ]
  },
  {
   "cell_type": "code",
   "execution_count": 263,
   "id": "d3dc6f06",
   "metadata": {},
   "outputs": [
    {
     "name": "stdout",
     "output_type": "stream",
     "text": [
      "x:\n",
      " [[0 1 2]\n",
      " [3 4 5]\n",
      " [6 7 8]]\n",
      "\n",
      "y:\n",
      " [[ 0  1  2]\n",
      " [ 3  4  5]\n",
      " [ 6  7  8]\n",
      " [ 9 10 11]]\n",
      "\n",
      "z:\n",
      " [[ 0  1  2  9]\n",
      " [ 3  4  5 10]\n",
      " [ 6  7  8 11]]\n"
     ]
    }
   ],
   "source": [
    "x = np.arange(9).reshape(3, 3)\n",
    "print(\"x:\\n\", x)\n",
    "\n",
    "# Add Rows, note that the 2nd argument must match the shape of the original\n",
    "y = np.append(x, [[9,10,11]], axis=0)\n",
    "print(\"\\ny:\\n\", y)\n",
    "\n",
    "# Add columns, note that the 2nd argument must match the shape of the original\n",
    "z = np.append(x, [[9],[10],[11]], axis=1)\n",
    "print(\"\\nz:\\n\", z)"
   ]
  },
  {
   "cell_type": "markdown",
   "id": "f283ccc0",
   "metadata": {},
   "source": [
    "#### Inserting Rows and Columns at desired index"
   ]
  },
  {
   "cell_type": "code",
   "execution_count": 264,
   "id": "3c3ac4a0",
   "metadata": {},
   "outputs": [
    {
     "name": "stdout",
     "output_type": "stream",
     "text": [
      "[0 1 2 3 4 5 6 7 8]\n"
     ]
    }
   ],
   "source": [
    "x = np.arange(9)\n",
    "print(x)"
   ]
  },
  {
   "cell_type": "code",
   "execution_count": 268,
   "id": "58abd266",
   "metadata": {},
   "outputs": [
    {
     "name": "stdout",
     "output_type": "stream",
     "text": [
      "[ 0  1 30 40 30 40  3  4  2  3  4  5  6  7  8]\n"
     ]
    }
   ],
   "source": [
    "x = np.insert(x, 2, [30, 40])\n",
    "print(x)"
   ]
  },
  {
   "cell_type": "code",
   "execution_count": 269,
   "id": "391e0858",
   "metadata": {},
   "outputs": [
    {
     "name": "stdout",
     "output_type": "stream",
     "text": [
      "[[0 1 2]\n",
      " [3 4 5]\n",
      " [6 7 8]]\n"
     ]
    }
   ],
   "source": [
    "x = np.arange(9).reshape(3,3)\n",
    "print(x)"
   ]
  },
  {
   "cell_type": "code",
   "execution_count": 272,
   "id": "4302e803",
   "metadata": {},
   "outputs": [
    {
     "name": "stdout",
     "output_type": "stream",
     "text": [
      "[[  0   1   2]\n",
      " [ 90 100 110]\n",
      " [  3   4   5]\n",
      " [  6   7   8]]\n"
     ]
    }
   ],
   "source": [
    "y = np.insert(x, 1, [90, 100, 110], axis=0)\n",
    "print(y)"
   ]
  },
  {
   "cell_type": "code",
   "execution_count": 277,
   "id": "a2d5e9fa",
   "metadata": {},
   "outputs": [
    {
     "name": "stdout",
     "output_type": "stream",
     "text": [
      "[[  0   1   2  90]\n",
      " [  3   4   5 100]\n",
      " [  6   7   8 110]]\n"
     ]
    }
   ],
   "source": [
    "z = np.insert(x, 3, [90, 100, 110], axis=1)\n",
    "print(z)"
   ]
  },
  {
   "cell_type": "markdown",
   "id": "99957987",
   "metadata": {},
   "source": [
    "#### Stacking array"
   ]
  },
  {
   "cell_type": "code",
   "execution_count": 278,
   "id": "4fcd8a09",
   "metadata": {},
   "outputs": [
    {
     "name": "stdout",
     "output_type": "stream",
     "text": [
      "[0 1]\n"
     ]
    }
   ],
   "source": [
    "x = np.arange(2)\n",
    "print(x)"
   ]
  },
  {
   "cell_type": "code",
   "execution_count": 280,
   "id": "7b7c5f08",
   "metadata": {},
   "outputs": [
    {
     "name": "stdout",
     "output_type": "stream",
     "text": [
      "[[2 3]\n",
      " [4 5]]\n"
     ]
    }
   ],
   "source": [
    "y = np.arange(2, 6).reshape(2,2)\n",
    "print(y)"
   ]
  },
  {
   "cell_type": "code",
   "execution_count": 285,
   "id": "b4bacb4f",
   "metadata": {},
   "outputs": [
    {
     "name": "stdout",
     "output_type": "stream",
     "text": [
      "[[0 1]\n",
      " [2 3]\n",
      " [4 5]]\n"
     ]
    }
   ],
   "source": [
    "z = np.vstack((x, y))\n",
    "print(z)"
   ]
  },
  {
   "cell_type": "code",
   "execution_count": 288,
   "id": "ccd42d14",
   "metadata": {},
   "outputs": [
    {
     "name": "stdout",
     "output_type": "stream",
     "text": [
      "[[0 2 3]\n",
      " [1 4 5]]\n"
     ]
    }
   ],
   "source": [
    "z = np.hstack((x.reshape(2, 1), y))\n",
    "print(z)"
   ]
  }
 ],
 "metadata": {
  "kernelspec": {
   "display_name": "Python 3 (ipykernel)",
   "language": "python",
   "name": "python3"
  },
  "language_info": {
   "codemirror_mode": {
    "name": "ipython",
    "version": 3
   },
   "file_extension": ".py",
   "mimetype": "text/x-python",
   "name": "python",
   "nbconvert_exporter": "python",
   "pygments_lexer": "ipython3",
   "version": "3.7.4"
  }
 },
 "nbformat": 4,
 "nbformat_minor": 5
}
