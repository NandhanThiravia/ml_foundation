{
 "cells": [
  {
   "cell_type": "markdown",
   "id": "fba76cd5",
   "metadata": {},
   "source": [
    "We can use try statements to handle exceptions. There are four clauses you can use (one more in addition to those shown in the video).\n",
    "\n",
    "try: This is the only mandatory clause in a try statement. The code in this block is the first thing that Python runs in a try statement.\n",
    "except: If Python runs into an exception while running the try block, it will jump to the except block that handles that exception.\n",
    "else: If Python runs into no exceptions while running the try block, it will run the code in this block after running the try block.\n",
    "finally: Before Python leaves this try statement, it will run the code in this finally block under any conditions, even if it's ending the program. E.g., if Python ran into an error while running code in the except or else block, this finally block will still be executed before stopping the program."
   ]
  },
  {
   "cell_type": "code",
   "execution_count": 6,
   "id": "15dd7211",
   "metadata": {},
   "outputs": [
    {
     "name": "stdout",
     "output_type": "stream",
     "text": [
      "Enter a number: 12\n",
      "Valid Number\n"
     ]
    }
   ],
   "source": [
    "try:\n",
    "    number = int(input(\"Enter a number: \"))\n",
    "    print(\"Valid Number\");\n",
    "except:\n",
    "    print(\"Invalid number\")"
   ]
  },
  {
   "cell_type": "code",
   "execution_count": 8,
   "id": "f11d40a7",
   "metadata": {},
   "outputs": [
    {
     "name": "stdout",
     "output_type": "stream",
     "text": [
      "Enter a number: 12\n",
      "Valid Number\n",
      "End\n"
     ]
    }
   ],
   "source": [
    "try:\n",
    "    number = int(input(\"Enter a number: \"))\n",
    "    print(\"Valid Number\");\n",
    "except:\n",
    "    print(\"Invalid number\")\n",
    "finally:\n",
    "    print(\"End\")"
   ]
  },
  {
   "cell_type": "code",
   "execution_count": 9,
   "id": "67b2acf0",
   "metadata": {},
   "outputs": [
    {
     "name": "stdout",
     "output_type": "stream",
     "text": [
      "Enter a number: ten\n",
      "Invalid number\n",
      "End\n"
     ]
    }
   ],
   "source": [
    "try:\n",
    "    number = int(input(\"Enter a number: \"))\n",
    "    print(\"Valid Number\");\n",
    "except:\n",
    "    print(\"Invalid number\")\n",
    "finally:\n",
    "    print(\"End\")"
   ]
  },
  {
   "cell_type": "code",
   "execution_count": 14,
   "id": "1ea2dbfc",
   "metadata": {},
   "outputs": [
    {
     "name": "stdout",
     "output_type": "stream",
     "text": [
      "Enter a number: 10\n",
      "Valid Number\n",
      "End\n"
     ]
    }
   ],
   "source": [
    "try:\n",
    "    number = int(input(\"Enter a number: \"))    \n",
    "except:\n",
    "    print(\"Invalid number\")\n",
    "else:\n",
    "    print(\"Valid Number\");\n",
    "finally:\n",
    "    print(\"End\")"
   ]
  },
  {
   "cell_type": "code",
   "execution_count": 16,
   "id": "abbb7488",
   "metadata": {},
   "outputs": [
    {
     "name": "stdout",
     "output_type": "stream",
     "text": [
      "Enter a number: ten\n",
      "Invalid number\n",
      "End\n"
     ]
    }
   ],
   "source": [
    "try:\n",
    "    number = int(input(\"Enter a number: \"))    \n",
    "except:\n",
    "    print(\"Invalid number\")\n",
    "else:\n",
    "    print(\"Valid Number\");\n",
    "finally:\n",
    "    print(\"End\")"
   ]
  },
  {
   "cell_type": "code",
   "execution_count": 23,
   "id": "2c85882c",
   "metadata": {},
   "outputs": [
    {
     "name": "stdout",
     "output_type": "stream",
     "text": [
      "Enter a number: ten\n",
      "Value Error\n",
      "End\n"
     ]
    }
   ],
   "source": [
    "try:\n",
    "    number = int(input(\"Enter a number: \"))    \n",
    "except (ValueError, KeyboardInterrupt):\n",
    "    print(\"Value Error\")\n",
    "except KeyError:\n",
    "    print('Key Error')\n",
    "    \n",
    "else:\n",
    "    print(\"Valid Number\");\n",
    "\n",
    "finally:\n",
    "    print(\"End\")"
   ]
  },
  {
   "cell_type": "markdown",
   "id": "3e4ad55b",
   "metadata": {},
   "source": [
    "## Access Error Codes"
   ]
  },
  {
   "cell_type": "code",
   "execution_count": 26,
   "id": "9e6a33fc",
   "metadata": {},
   "outputs": [
    {
     "name": "stdout",
     "output_type": "stream",
     "text": [
      "Enter a number: ten\n",
      "Error: invalid literal for int() with base 10: 'ten'\n",
      "End\n"
     ]
    }
   ],
   "source": [
    "try:\n",
    "    number = int(input(\"Enter a number: \"))    \n",
    "except (ValueError, KeyboardInterrupt) as e:\n",
    "    print(\"Error: {}\".format(e))\n",
    "except KeyError:\n",
    "    print('Key Error')\n",
    "    \n",
    "else:\n",
    "    print(\"Valid Number\");\n",
    "\n",
    "finally:\n",
    "    print(\"End\")"
   ]
  },
  {
   "cell_type": "code",
   "execution_count": 28,
   "id": "27c2d08f",
   "metadata": {},
   "outputs": [
    {
     "name": "stdout",
     "output_type": "stream",
     "text": [
      "Enter numerator: 10\n",
      "Enter denominator: 0\n",
      "ZeroDivisionError: division by zero\n"
     ]
    }
   ],
   "source": [
    "try:\n",
    "    numerator = int(input(\"Enter numerator: \"))\n",
    "    denominator = int(input(\"Enter denominator: \"))\n",
    "    quotient = numerator / denominator\n",
    "except ValueError as e:\n",
    "    print(\"ValueError: {}\".format(e))\n",
    "except ZeroDivisionError as e:\n",
    "    print(\"ZeroDivisionError: {}\".format(e))"
   ]
  },
  {
   "cell_type": "markdown",
   "id": "8cfb1925",
   "metadata": {},
   "source": [
    "## Exceptions\n",
    "So you can still access error messages, even if you handle them to keep your program from crashing!\n",
    "\n",
    "If you don't have a specific error you're handling, you can still access the message like this:"
   ]
  },
  {
   "cell_type": "code",
   "execution_count": 29,
   "id": "e4df47e7",
   "metadata": {},
   "outputs": [
    {
     "ename": "IndentationError",
     "evalue": "expected an indented block (4282982258.py, line 3)",
     "output_type": "error",
     "traceback": [
      "\u001b[1;36m  File \u001b[1;32m\"C:\\Users\\Thiravia.P.IN.001\\AppData\\Local\\Temp\\ipykernel_20300\\4282982258.py\"\u001b[1;36m, line \u001b[1;32m3\u001b[0m\n\u001b[1;33m    except Exception as e:\u001b[0m\n\u001b[1;37m         ^\u001b[0m\n\u001b[1;31mIndentationError\u001b[0m\u001b[1;31m:\u001b[0m expected an indented block\n"
     ]
    }
   ],
   "source": [
    "try:\n",
    "    # some code\n",
    "except Exception as e:\n",
    "   # some code\n",
    "   print(\"Exception occurred: {}\".format(e))"
   ]
  }
 ],
 "metadata": {
  "kernelspec": {
   "display_name": "Python 3 (ipykernel)",
   "language": "python",
   "name": "python3"
  },
  "language_info": {
   "codemirror_mode": {
    "name": "ipython",
    "version": 3
   },
   "file_extension": ".py",
   "mimetype": "text/x-python",
   "name": "python",
   "nbconvert_exporter": "python",
   "pygments_lexer": "ipython3",
   "version": "3.7.4"
  }
 },
 "nbformat": 4,
 "nbformat_minor": 5
}
