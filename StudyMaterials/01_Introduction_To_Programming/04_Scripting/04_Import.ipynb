{
 "cells": [
  {
   "cell_type": "code",
   "execution_count": 3,
   "id": "6825f448",
   "metadata": {},
   "outputs": [],
   "source": [
    "import Utility"
   ]
  },
  {
   "cell_type": "code",
   "execution_count": 5,
   "id": "5283a7e2",
   "metadata": {},
   "outputs": [
    {
     "name": "stdout",
     "output_type": "stream",
     "text": [
      "3.5\n"
     ]
    }
   ],
   "source": [
    "num_list = [1,2,3,4,5,6]\n",
    "print(Utility.mean(num_list))"
   ]
  },
  {
   "cell_type": "code",
   "execution_count": 1,
   "id": "9273671e",
   "metadata": {},
   "outputs": [
    {
     "name": "stdout",
     "output_type": "stream",
     "text": [
      "__main__\n"
     ]
    }
   ],
   "source": [
    "print(__name__)"
   ]
  },
  {
   "cell_type": "markdown",
   "id": "6caaebb6",
   "metadata": {},
   "source": [
    "### Quiz: Compute an Exponent"
   ]
  },
  {
   "cell_type": "code",
   "execution_count": 14,
   "id": "da002a87",
   "metadata": {},
   "outputs": [
    {
     "name": "stdout",
     "output_type": "stream",
     "text": [
      "20.085536923187668\n"
     ]
    }
   ],
   "source": [
    "import math\n",
    "\n",
    "print(math.exp(3))"
   ]
  },
  {
   "cell_type": "markdown",
   "id": "dcdbbaf4",
   "metadata": {},
   "source": [
    "### Quiz: Password Generator\n",
    "Write a function called generate_password that selects three random words from the list of words word_list and concatenates them into a single string. Your function should not accept any arguments and should reference the global variable word_list to build the password."
   ]
  },
  {
   "cell_type": "code",
   "execution_count": 35,
   "id": "3c8cb817",
   "metadata": {},
   "outputs": [
    {
     "name": "stdout",
     "output_type": "stream",
     "text": [
      "intowhatnothing\n"
     ]
    }
   ],
   "source": [
    "# TODO: First import the `random` module\n",
    "import random\n",
    "\n",
    "# We begin with an empty `word_list`\n",
    "word_file = \"words.txt\"\n",
    "word_list = []\n",
    "\n",
    "# We fill up the word_list from the `words.txt` file\n",
    "with open(word_file,'r') as words:\n",
    "\tfor line in words:\n",
    "\t\t# remove white space and make everything lowercase\n",
    "\t\tword = line.strip().lower()\n",
    "\t\t# don't include words that are too long or too short\n",
    "\t\tif 3 < len(word) < 8:\n",
    "\t\t\tword_list.append(word)\n",
    "\n",
    "# TODO: Add your function generate_password below\n",
    "# It should return a string consisting of three random words \n",
    "# concatenated together without spaces\n",
    "def generate_password():\n",
    "    password = \"\"\n",
    "    for index in range(3):\n",
    "        randIndex = random.randint(0, len(word_list)-1)\n",
    "        password += word_list[randIndex]\n",
    "    \n",
    "    return password\n",
    "\n",
    "def generate_password_2():\n",
    "    return random.choice(word_list) + random.choice(word_list) + random.choice(word_list)\n",
    "\n",
    "def generate_password_3():\n",
    "    return ''.join(random.sample(word_list,3))\n",
    "\n",
    "\n",
    "# Now we test the function\n",
    "print(generate_password())"
   ]
  },
  {
   "cell_type": "code",
   "execution_count": 36,
   "id": "bde28681",
   "metadata": {},
   "outputs": [
    {
     "name": "stdout",
     "output_type": "stream",
     "text": [
      "Help on method randint in module random:\n",
      "\n",
      "randint(a, b) method of random.Random instance\n",
      "    Return random integer in range [a, b], including both end points.\n",
      "\n"
     ]
    }
   ],
   "source": [
    "import random\n",
    "help(random.randint)"
   ]
  },
  {
   "cell_type": "markdown",
   "id": "83665afc",
   "metadata": {},
   "source": [
    "### Techniques for Importing Modules\n",
    "There are other variants of import statements that are useful in different situations.\n",
    "<ol>\n",
    "<li>To import an individual function or class from a module:<br>\n",
    "    from module_name import object_name</li>\n",
    "\n",
    "<li>To import multiple individual objects from a module:<br>\n",
    "    from module_name import first_object, second_object</li>\n",
    "\n",
    "<li>To rename a module:<br>\n",
    "    import module_name as new_name</li>\n",
    "\n",
    "<li>To import an object from a module and rename it:<br>\n",
    "    from module_name import object_name as new_name</li>\n",
    "\n",
    "<li>To import every object individually from a module (DO NOT DO THIS):<br>\n",
    "    from module_name import *</li>\n",
    "\n",
    "<li>If you really want to use all of the objects from a module, use the standard import module_name statement instead and access each of the objects with the dot notation.<br>\n",
    "    import module_name</li>\n",
    "</ol>"
   ]
  },
  {
   "cell_type": "markdown",
   "id": "c444b207",
   "metadata": {},
   "source": [
    "### Modules, Packages, and Names\n",
    "In order to manage the code better, modules in the Python Standard Library are split down into sub-modules that are contained within a package. A package is simply a module that contains sub-modules. A sub-module is specified with the usual dot notation.\n",
    "\n",
    "Modules that are submodules are specified by the package name and then the submodule name separated by a dot. You can import the submodule like this.\n",
    "\n",
    "import package_name.submodule_name"
   ]
  }
 ],
 "metadata": {
  "kernelspec": {
   "display_name": "Python 3 (ipykernel)",
   "language": "python",
   "name": "python3"
  },
  "language_info": {
   "codemirror_mode": {
    "name": "ipython",
    "version": 3
   },
   "file_extension": ".py",
   "mimetype": "text/x-python",
   "name": "python",
   "nbconvert_exporter": "python",
   "pygments_lexer": "ipython3",
   "version": "3.7.4"
  }
 },
 "nbformat": 4,
 "nbformat_minor": 5
}
