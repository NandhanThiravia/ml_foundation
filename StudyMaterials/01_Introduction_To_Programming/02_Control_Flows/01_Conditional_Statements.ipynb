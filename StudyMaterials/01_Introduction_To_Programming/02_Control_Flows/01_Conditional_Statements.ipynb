{
 "cells": [
  {
   "cell_type": "markdown",
   "id": "8add7633",
   "metadata": {},
   "source": [
    "# If Condition "
   ]
  },
  {
   "cell_type": "code",
   "execution_count": 1,
   "id": "ea0c5723",
   "metadata": {},
   "outputs": [],
   "source": [
    "phone_balance = 3\n",
    "bank_balance = 100"
   ]
  },
  {
   "cell_type": "code",
   "execution_count": 2,
   "id": "6f0c6ef1",
   "metadata": {},
   "outputs": [
    {
     "name": "stdout",
     "output_type": "stream",
     "text": [
      "3 100\n",
      "13 90\n"
     ]
    }
   ],
   "source": [
    "print (phone_balance, bank_balance)\n",
    "\n",
    "if phone_balance < 5:\n",
    "    phone_balance += 10\n",
    "    bank_balance -= 10\n",
    "\n",
    "print (phone_balance, bank_balance)"
   ]
  },
  {
   "cell_type": "markdown",
   "id": "7e02aaa4",
   "metadata": {},
   "source": [
    "# If, Elif, Else "
   ]
  },
  {
   "cell_type": "code",
   "execution_count": 4,
   "id": "5fbba391",
   "metadata": {},
   "outputs": [
    {
     "name": "stdout",
     "output_type": "stream",
     "text": [
      "stay indoors!\n"
     ]
    }
   ],
   "source": [
    "season = \"winter\"\n",
    "\n",
    "if season == 'spring':\n",
    "    print('plant the garden!')\n",
    "elif season == 'summer':\n",
    "    print('water the garden!')\n",
    "elif season == 'fall':\n",
    "    print('harvest the garden!')\n",
    "elif season == 'winter':\n",
    "    print('stay indoors!')\n",
    "else:\n",
    "    print('unrecognized season')"
   ]
  },
  {
   "cell_type": "code",
   "execution_count": 6,
   "id": "f46227dc",
   "metadata": {},
   "outputs": [
    {
     "name": "stdout",
     "output_type": "stream",
     "text": [
      "Congratulations! You won a wafer-thin mint!\n"
     ]
    }
   ],
   "source": [
    "points = 174  # use this input to make your submission\n",
    "\n",
    "# write your if statement here\n",
    "prize = \"Congratulations! You won a {}!\"\n",
    "no_prize = \"Oh dear, no prize this time.\"\n",
    "\n",
    "if points <= 50:\n",
    "    result = prize.format(\"wooden rabbit\")\n",
    "elif points <= 150:\n",
    "    result = no_prize\n",
    "elif points <= 180:\n",
    "    result = prize.format(\"wafer-thin mint\")\n",
    "elif points <= 200:\n",
    "    result = prize.format(\"penguin\")\n",
    "\n",
    "print(result)"
   ]
  },
  {
   "cell_type": "code",
   "execution_count": 7,
   "id": "75ec7075",
   "metadata": {},
   "outputs": [
    {
     "name": "stdout",
     "output_type": "stream",
     "text": [
      "Oops!  Your guess was too low.\n"
     ]
    }
   ],
   "source": [
    "answer = 35\n",
    "guess = 30   # this is just a sample answer and guess\n",
    "\n",
    "if guess < answer:\n",
    "    result = \"Oops!  Your guess was too low.\"\n",
    "elif guess > answer:\n",
    "   result = \"Oops!  Your guess was too high.\"\n",
    "elif guess==answer:\n",
    "    result = \"Nice!  Your guess matched the answer!\"\n",
    "print(result)"
   ]
  },
  {
   "cell_type": "code",
   "execution_count": 8,
   "id": "d92e6bf1",
   "metadata": {},
   "outputs": [
    {
     "name": "stdout",
     "output_type": "stream",
     "text": [
      "Since you're from CA, your total cost is 21.5.\n"
     ]
    }
   ],
   "source": [
    "state = 'CA'\n",
    "purchase_amount = 20.00    # a sample state and purchase amount\n",
    "\n",
    "if state == 'CA':\n",
    "    tax_amount = .075\n",
    "    total_cost = purchase_amount*(1+tax_amount)\n",
    "    result = \"Since you're from {}, your total cost is {}.\".format(state, total_cost)\n",
    "\n",
    "elif state == 'MN':\n",
    "    tax_amount = .095\n",
    "    total_cost = purchase_amount*(1+tax_amount)\n",
    "    result = \"Since you're from {}, your total cost is {}.\".format(state, total_cost)\n",
    "\n",
    "elif state == 'NY':\n",
    "    tax_amount = .089\n",
    "    total_cost = purchase_amount*(1+tax_amount)\n",
    "    result = \"Since you're from {}, your total cost is {}.\".format(state, total_cost)\n",
    "\n",
    "print(result)"
   ]
  },
  {
   "cell_type": "markdown",
   "id": "b985fe6e",
   "metadata": {},
   "source": [
    "## Complex Boolean Expressions "
   ]
  },
  {
   "cell_type": "code",
   "execution_count": 8,
   "id": "ccaab743",
   "metadata": {},
   "outputs": [
    {
     "name": "stdout",
     "output_type": "stream",
     "text": [
      "Enter your weight: 78\n",
      "Your weight is right\n"
     ]
    }
   ],
   "source": [
    "weight = int(input(\"Enter your weight: \"))\n",
    "\n",
    "if 70 < weight <= 80:\n",
    "    print(\"Your weight is right\")\n",
    "elif 60 <= weight <= 70:\n",
    "    print(\"Your weight is below normal\")\n",
    "else:\n",
    "    print(\"Eat well please\")"
   ]
  },
  {
   "cell_type": "code",
   "execution_count": 11,
   "id": "b211c6c4",
   "metadata": {},
   "outputs": [
    {
     "name": "stdout",
     "output_type": "stream",
     "text": [
      "Is there a rainbow?\n"
     ]
    }
   ],
   "source": [
    "is_raining = True\n",
    "is_sunny = True\n",
    "if is_raining and is_sunny:\n",
    "    print(\"Is there a rainbow?\")"
   ]
  },
  {
   "cell_type": "code",
   "execution_count": 13,
   "id": "7d2e71ab",
   "metadata": {},
   "outputs": [
    {
     "name": "stdout",
     "output_type": "stream",
     "text": [
      "send email\n"
     ]
    }
   ],
   "source": [
    "subscribed = False\n",
    "location = \"IND\"\n",
    "\n",
    "if (not subscribed) and (location == \"IND\" or location == \"SL\"):\n",
    "    print(\"send email\")"
   ]
  },
  {
   "cell_type": "markdown",
   "id": "28b3b2f4",
   "metadata": {},
   "source": [
    "# Complex Conditions "
   ]
  },
  {
   "cell_type": "code",
   "execution_count": 14,
   "id": "879e802e",
   "metadata": {},
   "outputs": [
    {
     "name": "stdout",
     "output_type": "stream",
     "text": [
      "Congratulations! You won a wafer-thin mint!\n"
     ]
    }
   ],
   "source": [
    "points = 174\n",
    "\n",
    "points = 174  # use this input when submitting your answer\n",
    "\n",
    "# set prize to default value of None\n",
    "prize = None\n",
    "\n",
    "# use the value of points to assign prize to the correct prize name\n",
    "if points <= 50:\n",
    "    prize = \"wooden rabbit\"\n",
    "elif 151 <= points <= 180:\n",
    "    prize = \"wafer-thin mint\"\n",
    "elif points >= 181:\n",
    "    prize = \"penguin\"\n",
    "\n",
    "# use the truth value of prize to assign result to the correct message\n",
    "if prize:\n",
    "    result = \"Congratulations! You won a {}!\".format(prize)\n",
    "else:\n",
    "    result = \"Oh dear, no prize this time.\"\n",
    "\n",
    "print(result)"
   ]
  }
 ],
 "metadata": {
  "kernelspec": {
   "display_name": "Python 3 (ipykernel)",
   "language": "python",
   "name": "python3"
  },
  "language_info": {
   "codemirror_mode": {
    "name": "ipython",
    "version": 3
   },
   "file_extension": ".py",
   "mimetype": "text/x-python",
   "name": "python",
   "nbconvert_exporter": "python",
   "pygments_lexer": "ipython3",
   "version": "3.7.4"
  }
 },
 "nbformat": 4,
 "nbformat_minor": 5
}
