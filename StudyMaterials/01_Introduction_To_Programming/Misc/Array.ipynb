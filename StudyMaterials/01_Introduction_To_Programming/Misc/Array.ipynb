{
 "cells": [
  {
   "cell_type": "code",
   "execution_count": 20,
   "metadata": {},
   "outputs": [],
   "source": [
    "#n = int(input())\n",
    "#my_list = list(map(int, input().split()))\n",
    "n = 5\n",
    "my_list = [7, 2, 3, 4, 5]"
   ]
  },
  {
   "cell_type": "code",
   "execution_count": 21,
   "metadata": {},
   "outputs": [
    {
     "name": "stdout",
     "output_type": "stream",
     "text": [
      "7\n",
      "5\n"
     ]
    }
   ],
   "source": [
    "max = my_list[0]\n",
    "second_to_max = -101\n",
    "index = 1\n",
    "\n",
    "for index in range(1, len(my_list)):\n",
    "    if max < my_list[index]:\n",
    "        second_to_max = max\n",
    "        max = my_list[index]\n",
    "    elif second_to_max < my_list[index] < max:\n",
    "        second_to_max = my_list[index]\n",
    "\n",
    "print(max)\n",
    "print(second_to_max)\n"
   ]
  },
  {
   "cell_type": "code",
   "execution_count": null,
   "metadata": {},
   "outputs": [],
   "source": []
  }
 ],
 "metadata": {
  "kernelspec": {
   "display_name": "Python 3",
   "language": "python",
   "name": "python3"
  },
  "language_info": {
   "codemirror_mode": {
    "name": "ipython",
    "version": 3
   },
   "file_extension": ".py",
   "mimetype": "text/x-python",
   "name": "python",
   "nbconvert_exporter": "python",
   "pygments_lexer": "ipython3",
   "version": "3.7.0"
  }
 },
 "nbformat": 4,
 "nbformat_minor": 2
}
