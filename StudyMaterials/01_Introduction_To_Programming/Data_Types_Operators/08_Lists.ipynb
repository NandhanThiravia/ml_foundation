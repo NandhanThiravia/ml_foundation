{
 "cells": [
  {
   "cell_type": "markdown",
   "id": "8ecc9344",
   "metadata": {},
   "source": [
    "# Lists"
   ]
  },
  {
   "cell_type": "code",
   "execution_count": 1,
   "id": "664ef74b",
   "metadata": {},
   "outputs": [],
   "source": [
    "weeks = ['Monday', 'Tuesday', 'Wednesday', 'Thursday', 'Friday', 'Saturday', 'Sunday']"
   ]
  },
  {
   "cell_type": "code",
   "execution_count": 2,
   "id": "317cf821",
   "metadata": {},
   "outputs": [
    {
     "name": "stdout",
     "output_type": "stream",
     "text": [
      "['Monday', 'Tuesday', 'Wednesday', 'Thursday', 'Friday', 'Saturday', 'Sunday']\n"
     ]
    }
   ],
   "source": [
    "print(weeks)"
   ]
  },
  {
   "cell_type": "code",
   "execution_count": 3,
   "id": "3f0874db",
   "metadata": {},
   "outputs": [
    {
     "name": "stdout",
     "output_type": "stream",
     "text": [
      "Monday\n"
     ]
    }
   ],
   "source": [
    "print(weeks[0])"
   ]
  },
  {
   "cell_type": "code",
   "execution_count": 4,
   "id": "b1ad1a45",
   "metadata": {},
   "outputs": [
    {
     "name": "stdout",
     "output_type": "stream",
     "text": [
      "Tuesday\n"
     ]
    }
   ],
   "source": [
    "print(weeks[1])"
   ]
  },
  {
   "cell_type": "code",
   "execution_count": 5,
   "id": "d1991f68",
   "metadata": {},
   "outputs": [
    {
     "ename": "IndexError",
     "evalue": "list index out of range",
     "output_type": "error",
     "traceback": [
      "\u001b[1;31m---------------------------------------------------------------------------\u001b[0m",
      "\u001b[1;31mIndexError\u001b[0m                                Traceback (most recent call last)",
      "\u001b[1;32m~\\AppData\\Local\\Temp\\ipykernel_16620\\45039226.py\u001b[0m in \u001b[0;36m<module>\u001b[1;34m\u001b[0m\n\u001b[1;32m----> 1\u001b[1;33m \u001b[0mprint\u001b[0m\u001b[1;33m(\u001b[0m\u001b[0mweeks\u001b[0m\u001b[1;33m[\u001b[0m\u001b[1;36m8\u001b[0m\u001b[1;33m]\u001b[0m\u001b[1;33m)\u001b[0m\u001b[1;33m\u001b[0m\u001b[1;33m\u001b[0m\u001b[0m\n\u001b[0m",
      "\u001b[1;31mIndexError\u001b[0m: list index out of range"
     ]
    }
   ],
   "source": [
    "print(weeks[8])"
   ]
  },
  {
   "cell_type": "code",
   "execution_count": 6,
   "id": "9946e113",
   "metadata": {},
   "outputs": [
    {
     "name": "stdout",
     "output_type": "stream",
     "text": [
      "Sunday\n"
     ]
    }
   ],
   "source": [
    "print(weeks[-1])"
   ]
  },
  {
   "cell_type": "code",
   "execution_count": 15,
   "id": "606b931a",
   "metadata": {},
   "outputs": [
    {
     "ename": "TypeError",
     "evalue": "list indices must be integers or slices, not str",
     "output_type": "error",
     "traceback": [
      "\u001b[1;31m---------------------------------------------------------------------------\u001b[0m",
      "\u001b[1;31mTypeError\u001b[0m                                 Traceback (most recent call last)",
      "\u001b[1;32m~\\AppData\\Local\\Temp\\ipykernel_16620\\399846596.py\u001b[0m in \u001b[0;36m<module>\u001b[1;34m\u001b[0m\n\u001b[1;32m----> 1\u001b[1;33m \u001b[0mprint\u001b[0m\u001b[1;33m(\u001b[0m\u001b[0mweeks\u001b[0m\u001b[1;33m[\u001b[0m\u001b[1;34m'Sunday'\u001b[0m\u001b[1;33m]\u001b[0m\u001b[1;33m)\u001b[0m\u001b[1;33m\u001b[0m\u001b[1;33m\u001b[0m\u001b[0m\n\u001b[0m",
      "\u001b[1;31mTypeError\u001b[0m: list indices must be integers or slices, not str"
     ]
    }
   ],
   "source": [
    "print(weeks['Sunday'])"
   ]
  },
  {
   "cell_type": "code",
   "execution_count": 16,
   "id": "eb59ce0f",
   "metadata": {},
   "outputs": [
    {
     "data": {
      "text/plain": [
       "['__add__',\n",
       " '__class__',\n",
       " '__contains__',\n",
       " '__delattr__',\n",
       " '__delitem__',\n",
       " '__dir__',\n",
       " '__doc__',\n",
       " '__eq__',\n",
       " '__format__',\n",
       " '__ge__',\n",
       " '__getattribute__',\n",
       " '__getitem__',\n",
       " '__gt__',\n",
       " '__hash__',\n",
       " '__iadd__',\n",
       " '__imul__',\n",
       " '__init__',\n",
       " '__init_subclass__',\n",
       " '__iter__',\n",
       " '__le__',\n",
       " '__len__',\n",
       " '__lt__',\n",
       " '__mul__',\n",
       " '__ne__',\n",
       " '__new__',\n",
       " '__reduce__',\n",
       " '__reduce_ex__',\n",
       " '__repr__',\n",
       " '__reversed__',\n",
       " '__rmul__',\n",
       " '__setattr__',\n",
       " '__setitem__',\n",
       " '__sizeof__',\n",
       " '__str__',\n",
       " '__subclasshook__',\n",
       " 'append',\n",
       " 'clear',\n",
       " 'copy',\n",
       " 'count',\n",
       " 'extend',\n",
       " 'index',\n",
       " 'insert',\n",
       " 'pop',\n",
       " 'remove',\n",
       " 'reverse',\n",
       " 'sort']"
      ]
     },
     "execution_count": 16,
     "metadata": {},
     "output_type": "execute_result"
    }
   ],
   "source": [
    "dir(list)"
   ]
  },
  {
   "cell_type": "code",
   "execution_count": 17,
   "id": "0e8c28a1",
   "metadata": {},
   "outputs": [
    {
     "name": "stdout",
     "output_type": "stream",
     "text": [
      "Help on method_descriptor:\n",
      "\n",
      "index(self, value, start=0, stop=9223372036854775807, /)\n",
      "    Return first index of value.\n",
      "    \n",
      "    Raises ValueError if the value is not present.\n",
      "\n"
     ]
    }
   ],
   "source": [
    "help(list.index)"
   ]
  },
  {
   "cell_type": "code",
   "execution_count": 18,
   "id": "35b26c67",
   "metadata": {},
   "outputs": [
    {
     "data": {
      "text/plain": [
       "6"
      ]
     },
     "execution_count": 18,
     "metadata": {},
     "output_type": "execute_result"
    }
   ],
   "source": [
    "weeks.index('Sunday')"
   ]
  },
  {
   "cell_type": "code",
   "execution_count": 19,
   "id": "287da4db",
   "metadata": {},
   "outputs": [
    {
     "data": {
      "text/plain": [
       "1"
      ]
     },
     "execution_count": 19,
     "metadata": {},
     "output_type": "execute_result"
    }
   ],
   "source": [
    "weeks.index('Tuesday')"
   ]
  },
  {
   "cell_type": "markdown",
   "id": "575144cd",
   "metadata": {},
   "source": [
    "# Random List"
   ]
  },
  {
   "cell_type": "code",
   "execution_count": 8,
   "id": "3879a984",
   "metadata": {},
   "outputs": [],
   "source": [
    "list_of_random_things = [1, 3.4, 'a string', True]"
   ]
  },
  {
   "cell_type": "code",
   "execution_count": 9,
   "id": "f4c14127",
   "metadata": {},
   "outputs": [
    {
     "name": "stdout",
     "output_type": "stream",
     "text": [
      "[1, 3.4, 'a string', True]\n"
     ]
    }
   ],
   "source": [
    "print(list_of_random_things)"
   ]
  },
  {
   "cell_type": "code",
   "execution_count": 11,
   "id": "5d7150ac",
   "metadata": {},
   "outputs": [
    {
     "name": "stdout",
     "output_type": "stream",
     "text": [
      "1\n"
     ]
    }
   ],
   "source": [
    "print(list_of_random_things[0])"
   ]
  },
  {
   "cell_type": "code",
   "execution_count": 12,
   "id": "c4c4dff2",
   "metadata": {},
   "outputs": [
    {
     "name": "stdout",
     "output_type": "stream",
     "text": [
      "<class 'int'>\n",
      "<class 'float'>\n",
      "<class 'str'>\n",
      "<class 'bool'>\n"
     ]
    }
   ],
   "source": [
    "print(type(list_of_random_things[0]))\n",
    "print(type(list_of_random_things[1]))\n",
    "print(type(list_of_random_things[2]))\n",
    "print(type(list_of_random_things[3]))"
   ]
  },
  {
   "cell_type": "code",
   "execution_count": 13,
   "id": "4f2a3ac7",
   "metadata": {},
   "outputs": [
    {
     "data": {
      "text/plain": [
       "4"
      ]
     },
     "execution_count": 13,
     "metadata": {},
     "output_type": "execute_result"
    }
   ],
   "source": [
    "len(list_of_random_things)"
   ]
  },
  {
   "cell_type": "markdown",
   "id": "5571f84b",
   "metadata": {},
   "source": [
    "# Slice and Dice"
   ]
  },
  {
   "cell_type": "code",
   "execution_count": 20,
   "id": "cbc543fe",
   "metadata": {},
   "outputs": [],
   "source": [
    "weeks = ['Monday', 'Tuesday', 'Wednesday', 'Thursday', 'Friday', 'Saturday', 'Sunday']"
   ]
  },
  {
   "cell_type": "code",
   "execution_count": 21,
   "id": "bd844926",
   "metadata": {},
   "outputs": [
    {
     "name": "stdout",
     "output_type": "stream",
     "text": [
      "['Wednesday']\n"
     ]
    }
   ],
   "source": [
    "# [a:b], a and b are index\n",
    "# a is inclusive\n",
    "# b is exclusive\n",
    "\n",
    "partition_weeks = weeks[2:3]\n",
    "print(partition_weeks)"
   ]
  },
  {
   "cell_type": "code",
   "execution_count": 22,
   "id": "317caf25",
   "metadata": {},
   "outputs": [
    {
     "name": "stdout",
     "output_type": "stream",
     "text": [
      "['Wednesday', 'Thursday']\n"
     ]
    }
   ],
   "source": [
    "partition_weeks = weeks[2:4]\n",
    "print(partition_weeks)"
   ]
  },
  {
   "cell_type": "code",
   "execution_count": 23,
   "id": "0705e859",
   "metadata": {},
   "outputs": [
    {
     "name": "stdout",
     "output_type": "stream",
     "text": [
      "['Monday', 'Tuesday', 'Wednesday', 'Thursday']\n"
     ]
    }
   ],
   "source": [
    "partition_weeks = weeks[:4]\n",
    "print(partition_weeks)"
   ]
  },
  {
   "cell_type": "code",
   "execution_count": 24,
   "id": "ac907890",
   "metadata": {},
   "outputs": [
    {
     "name": "stdout",
     "output_type": "stream",
     "text": [
      "['Friday', 'Saturday', 'Sunday']\n"
     ]
    }
   ],
   "source": [
    "partition_weeks = weeks[4:]\n",
    "print(partition_weeks)"
   ]
  },
  {
   "cell_type": "markdown",
   "id": "634c0b77",
   "metadata": {},
   "source": [
    "# Membership Operators"
   ]
  },
  {
   "cell_type": "code",
   "execution_count": 25,
   "id": "d6fb027c",
   "metadata": {},
   "outputs": [],
   "source": [
    "weeks = ['Monday', 'Tuesday', 'Wednesday', 'Thursday', 'Friday', 'Saturday', 'Sunday']"
   ]
  },
  {
   "cell_type": "code",
   "execution_count": 26,
   "id": "5cfcfec3",
   "metadata": {},
   "outputs": [
    {
     "data": {
      "text/plain": [
       "True"
      ]
     },
     "execution_count": 26,
     "metadata": {},
     "output_type": "execute_result"
    }
   ],
   "source": [
    "'Monday' in weeks"
   ]
  },
  {
   "cell_type": "code",
   "execution_count": 27,
   "id": "8dc75cd0",
   "metadata": {},
   "outputs": [
    {
     "data": {
      "text/plain": [
       "False"
      ]
     },
     "execution_count": 27,
     "metadata": {},
     "output_type": "execute_result"
    }
   ],
   "source": [
    "'July' in weeks"
   ]
  },
  {
   "cell_type": "code",
   "execution_count": 28,
   "id": "2f449d41",
   "metadata": {},
   "outputs": [
    {
     "data": {
      "text/plain": [
       "False"
      ]
     },
     "execution_count": 28,
     "metadata": {},
     "output_type": "execute_result"
    }
   ],
   "source": [
    "'Tuesday' not in weeks"
   ]
  }
 ],
 "metadata": {
  "kernelspec": {
   "display_name": "Python 3 (ipykernel)",
   "language": "python",
   "name": "python3"
  },
  "language_info": {
   "codemirror_mode": {
    "name": "ipython",
    "version": 3
   },
   "file_extension": ".py",
   "mimetype": "text/x-python",
   "name": "python",
   "nbconvert_exporter": "python",
   "pygments_lexer": "ipython3",
   "version": "3.7.4"
  }
 },
 "nbformat": 4,
 "nbformat_minor": 5
}
