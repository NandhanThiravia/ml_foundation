{
 "cells": [
  {
   "cell_type": "markdown",
   "id": "b5e89e62",
   "metadata": {},
   "source": [
    "# Dictionary"
   ]
  },
  {
   "cell_type": "code",
   "execution_count": 1,
   "id": "2049849f",
   "metadata": {},
   "outputs": [],
   "source": [
    "elements = {\"hydrogen\": 1, \"helium\": 2, \"carbon\": 6}"
   ]
  },
  {
   "cell_type": "code",
   "execution_count": 9,
   "id": "25d53d26",
   "metadata": {},
   "outputs": [
    {
     "data": {
      "text/plain": [
       "2"
      ]
     },
     "execution_count": 9,
     "metadata": {},
     "output_type": "execute_result"
    }
   ],
   "source": [
    "elements[\"helium\"]"
   ]
  },
  {
   "cell_type": "code",
   "execution_count": 10,
   "id": "48c9066e",
   "metadata": {},
   "outputs": [
    {
     "ename": "KeyError",
     "evalue": "'nitrogen'",
     "output_type": "error",
     "traceback": [
      "\u001b[1;31m---------------------------------------------------------------------------\u001b[0m",
      "\u001b[1;31mKeyError\u001b[0m                                  Traceback (most recent call last)",
      "\u001b[1;32m~\\AppData\\Local\\Temp\\ipykernel_16740\\461272854.py\u001b[0m in \u001b[0;36m<module>\u001b[1;34m\u001b[0m\n\u001b[1;32m----> 1\u001b[1;33m \u001b[0melements\u001b[0m\u001b[1;33m[\u001b[0m\u001b[1;34m\"nitrogen\"\u001b[0m\u001b[1;33m]\u001b[0m\u001b[1;33m\u001b[0m\u001b[1;33m\u001b[0m\u001b[0m\n\u001b[0m",
      "\u001b[1;31mKeyError\u001b[0m: 'nitrogen'"
     ]
    }
   ],
   "source": [
    "elements[\"nitrogen\"]"
   ]
  },
  {
   "cell_type": "code",
   "execution_count": 11,
   "id": "79998ef5",
   "metadata": {},
   "outputs": [],
   "source": [
    "elements[\"lithium\"] = 3"
   ]
  },
  {
   "cell_type": "code",
   "execution_count": 13,
   "id": "4d7fc3dc",
   "metadata": {},
   "outputs": [
    {
     "data": {
      "text/plain": [
       "3"
      ]
     },
     "execution_count": 13,
     "metadata": {},
     "output_type": "execute_result"
    }
   ],
   "source": [
    "elements[\"lithium\"]"
   ]
  },
  {
   "cell_type": "code",
   "execution_count": 15,
   "id": "e52b378c",
   "metadata": {},
   "outputs": [
    {
     "data": {
      "text/plain": [
       "True"
      ]
     },
     "execution_count": 15,
     "metadata": {},
     "output_type": "execute_result"
    }
   ],
   "source": [
    "\"carbon\" in elements"
   ]
  },
  {
   "cell_type": "code",
   "execution_count": 18,
   "id": "5f8696ae",
   "metadata": {},
   "outputs": [],
   "source": [
    "value = elements.get(\"carbon\")"
   ]
  },
  {
   "cell_type": "code",
   "execution_count": 19,
   "id": "c16c8e41",
   "metadata": {},
   "outputs": [
    {
     "data": {
      "text/plain": [
       "6"
      ]
     },
     "execution_count": 19,
     "metadata": {},
     "output_type": "execute_result"
    }
   ],
   "source": [
    "value"
   ]
  },
  {
   "cell_type": "code",
   "execution_count": 20,
   "id": "1d619b5c",
   "metadata": {},
   "outputs": [],
   "source": [
    "isNone = value is None"
   ]
  },
  {
   "cell_type": "code",
   "execution_count": 22,
   "id": "e79c42fc",
   "metadata": {},
   "outputs": [
    {
     "data": {
      "text/plain": [
       "False"
      ]
     },
     "execution_count": 22,
     "metadata": {},
     "output_type": "execute_result"
    }
   ],
   "source": [
    "isNone"
   ]
  },
  {
   "cell_type": "code",
   "execution_count": 24,
   "id": "bc608deb",
   "metadata": {},
   "outputs": [
    {
     "data": {
      "text/plain": [
       "False"
      ]
     },
     "execution_count": 24,
     "metadata": {},
     "output_type": "execute_result"
    }
   ],
   "source": [
    "value = elements.get(\"carbon\", \"No such element\")\n",
    "isPresent = value is \"No such element\"\n",
    "isPresent"
   ]
  },
  {
   "cell_type": "code",
   "execution_count": null,
   "id": "405c0e01",
   "metadata": {},
   "outputs": [],
   "source": []
  }
 ],
 "metadata": {
  "kernelspec": {
   "display_name": "Python 3 (ipykernel)",
   "language": "python",
   "name": "python3"
  },
  "language_info": {
   "codemirror_mode": {
    "name": "ipython",
    "version": 3
   },
   "file_extension": ".py",
   "mimetype": "text/x-python",
   "name": "python",
   "nbconvert_exporter": "python",
   "pygments_lexer": "ipython3",
   "version": "3.7.4"
  }
 },
 "nbformat": 4,
 "nbformat_minor": 5
}
