{
 "cells": [
  {
   "cell_type": "code",
   "execution_count": 1,
   "id": "898e8508",
   "metadata": {},
   "outputs": [],
   "source": [
    "elements = {\"hydrogen\": {\"number\": 1,\n",
    "                         \"weight\": 1.00794,\n",
    "                         \"symbol\": \"H\"},\n",
    "              \"helium\": {\"number\": 2,\n",
    "                         \"weight\": 4.002602,\n",
    "                         \"symbol\": \"He\"}}"
   ]
  },
  {
   "cell_type": "code",
   "execution_count": 3,
   "id": "e0268745",
   "metadata": {},
   "outputs": [
    {
     "data": {
      "text/plain": [
       "{'number': 2, 'weight': 4.002602, 'symbol': 'He'}"
      ]
     },
     "execution_count": 3,
     "metadata": {},
     "output_type": "execute_result"
    }
   ],
   "source": [
    "elements[\"helium\"]"
   ]
  },
  {
   "cell_type": "code",
   "execution_count": 5,
   "id": "015baece",
   "metadata": {},
   "outputs": [
    {
     "data": {
      "text/plain": [
       "4.002602"
      ]
     },
     "execution_count": 5,
     "metadata": {},
     "output_type": "execute_result"
    }
   ],
   "source": [
    "elements[\"helium\"][\"weight\"]"
   ]
  },
  {
   "cell_type": "code",
   "execution_count": 6,
   "id": "2952b4af",
   "metadata": {},
   "outputs": [],
   "source": [
    "oxygen = {\"number\":8,\"weight\":15.999,\"symbol\":\"O\"}"
   ]
  },
  {
   "cell_type": "code",
   "execution_count": 7,
   "id": "185e2adc",
   "metadata": {},
   "outputs": [],
   "source": [
    "elements[\"oxygen\"] = oxygen"
   ]
  },
  {
   "cell_type": "code",
   "execution_count": 9,
   "id": "e13fa4ea",
   "metadata": {},
   "outputs": [
    {
     "data": {
      "text/plain": [
       "{'hydrogen': {'number': 1, 'weight': 1.00794, 'symbol': 'H'},\n",
       " 'helium': {'number': 2, 'weight': 4.002602, 'symbol': 'He'},\n",
       " 'oxygen': {'number': 8, 'weight': 15.999, 'symbol': 'O'}}"
      ]
     },
     "execution_count": 9,
     "metadata": {},
     "output_type": "execute_result"
    }
   ],
   "source": [
    "elements"
   ]
  },
  {
   "cell_type": "code",
   "execution_count": 14,
   "id": "e9f6ec66",
   "metadata": {},
   "outputs": [],
   "source": [
    "elements[\"hydrogen\"][\"is_nobel_gas\"] = False\n",
    "elements[\"helium\"][\"is_noble_gas\"] = True\n",
    "elements[\"oxygen\"][\"is_noble_gas\"] = False"
   ]
  },
  {
   "cell_type": "code",
   "execution_count": 16,
   "id": "04ec16f9",
   "metadata": {},
   "outputs": [
    {
     "data": {
      "text/plain": [
       "{'hydrogen': {'number': 1,\n",
       "  'weight': 1.00794,\n",
       "  'symbol': 'H',\n",
       "  'is_nobel_gas': False},\n",
       " 'helium': {'number': 2,\n",
       "  'weight': 4.002602,\n",
       "  'symbol': 'He',\n",
       "  'is_noble_gas': True},\n",
       " 'oxygen': {'number': 8,\n",
       "  'weight': 15.999,\n",
       "  'symbol': 'O',\n",
       "  'is_noble_gas': False}}"
      ]
     },
     "execution_count": 16,
     "metadata": {},
     "output_type": "execute_result"
    }
   ],
   "source": [
    "elements"
   ]
  }
 ],
 "metadata": {
  "kernelspec": {
   "display_name": "Python 3 (ipykernel)",
   "language": "python",
   "name": "python3"
  },
  "language_info": {
   "codemirror_mode": {
    "name": "ipython",
    "version": 3
   },
   "file_extension": ".py",
   "mimetype": "text/x-python",
   "name": "python",
   "nbconvert_exporter": "python",
   "pygments_lexer": "ipython3",
   "version": "3.7.4"
  }
 },
 "nbformat": 4,
 "nbformat_minor": 5
}
