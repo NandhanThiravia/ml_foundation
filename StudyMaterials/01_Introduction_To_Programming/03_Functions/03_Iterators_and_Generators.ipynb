{
 "cells": [
  {
   "cell_type": "markdown",
   "id": "2c07267b",
   "metadata": {},
   "source": [
    "## Iterators and Generators\n",
    "Iterables are objects that can return one of their elements at a time, such as a list. Many of the built-in functions we’ve used so far, like 'enumerate,' return an iterator.\n",
    "\n",
    "An iterator is an object that represents a stream of data. This is different from a list, which is also an iterable, but is not an iterator because it is not a stream of data.\n",
    "\n",
    "Generators are a simple way to create iterators using functions. You can also define iterators using classes, which you can read more about here.\n",
    "\n",
    "Here is an example of a generator function called my_range, which produces an iterator that is a stream of numbers from 0 to (x - 1)."
   ]
  },
  {
   "cell_type": "code",
   "execution_count": 1,
   "id": "ba69e4dc",
   "metadata": {},
   "outputs": [],
   "source": [
    "def my_range(x):\n",
    "    i = 0\n",
    "    while i < x:\n",
    "        yield i\n",
    "        i += 1"
   ]
  },
  {
   "cell_type": "code",
   "execution_count": 3,
   "id": "96c29fbc",
   "metadata": {},
   "outputs": [
    {
     "name": "stdout",
     "output_type": "stream",
     "text": [
      "0\n",
      "1\n",
      "2\n",
      "3\n",
      "4\n",
      "5\n",
      "6\n",
      "7\n",
      "8\n",
      "9\n"
     ]
    }
   ],
   "source": [
    "for i in my_range(10):\n",
    "    print(i)"
   ]
  },
  {
   "cell_type": "markdown",
   "id": "733d1af7",
   "metadata": {},
   "source": [
    "## Quiz: Implement my_enumerate\n",
    "Write your own generator function that works like the built-in function enumerate."
   ]
  },
  {
   "cell_type": "code",
   "execution_count": 8,
   "id": "22a4fdbd",
   "metadata": {},
   "outputs": [
    {
     "name": "stdout",
     "output_type": "stream",
     "text": [
      "Lesson 1: Why Python Programming\n",
      "Lesson 2: Data Types and Operators\n",
      "Lesson 3: Control Flow\n",
      "Lesson 4: Functions\n",
      "Lesson 5: Scripting\n"
     ]
    }
   ],
   "source": [
    "lessons = [\"Why Python Programming\", \"Data Types and Operators\", \"Control Flow\", \"Functions\", \"Scripting\"]\n",
    "\n",
    "def my_enumerate(list, start=0):\n",
    "    for index in range(len(list)):\n",
    "        yield index+start, list[index]\n",
    "\n",
    "for i, lesson in my_enumerate(lessons, 1):\n",
    "    print(\"Lesson {}: {}\".format(i, lesson))"
   ]
  },
  {
   "cell_type": "markdown",
   "id": "3ef99267",
   "metadata": {},
   "source": [
    "## Quiz: Chunker\n",
    "If you have an iterable that is too large to fit in memory in full (e.g., when dealing with large files), being able to take and use chunks of it at a time can be very valuable.\n",
    "\n",
    "Implement a generator function, chunker, that takes in an iterable and yields a chunk of a specified size at a time."
   ]
  },
  {
   "cell_type": "code",
   "execution_count": 15,
   "id": "a16de790",
   "metadata": {},
   "outputs": [
    {
     "name": "stdout",
     "output_type": "stream",
     "text": [
      "['j', 'd', 'u', 'j']\n",
      "['j', 'f', 'n', 'f']\n",
      "['g', 'j', 'd']\n"
     ]
    }
   ],
   "source": [
    "def chunker(iterable, chunk_size):\n",
    "    chunk_list = []\n",
    "    size = 0\n",
    "    for item in iterable:\n",
    "        chunk_list.append(item)\n",
    "        size += 1\n",
    "        if (size == chunk_size):\n",
    "            yield chunk_list\n",
    "            chunk_list = []\n",
    "            size = 0\n",
    "            \n",
    "    if len(chunk_list) > 0:\n",
    "        yield chunk_list\n",
    "\n",
    "for chunk in chunker(\"jdujjfnfgjd\", 4):\n",
    "    print(list(chunk))"
   ]
  },
  {
   "cell_type": "markdown",
   "id": "653d638f",
   "metadata": {},
   "source": [
    "## Generator Expressions"
   ]
  },
  {
   "cell_type": "code",
   "execution_count": 16,
   "id": "bfcbda87",
   "metadata": {},
   "outputs": [
    {
     "name": "stdout",
     "output_type": "stream",
     "text": [
      "[0, 1, 4, 9, 16, 25, 36, 49, 64, 81]\n",
      "<generator object <genexpr> at 0x00000145DCD39EC8>\n"
     ]
    }
   ],
   "source": [
    "sq_list = [x**2 for x in range(10)]  # this produces a list of squares\n",
    "print(sq_list)\n",
    "\n",
    "sq_iterator = (x**2 for x in range(10))  # this produces an iterator of squares\n",
    "print(sq_iterator)"
   ]
  }
 ],
 "metadata": {
  "kernelspec": {
   "display_name": "Python 3 (ipykernel)",
   "language": "python",
   "name": "python3"
  },
  "language_info": {
   "codemirror_mode": {
    "name": "ipython",
    "version": 3
   },
   "file_extension": ".py",
   "mimetype": "text/x-python",
   "name": "python",
   "nbconvert_exporter": "python",
   "pygments_lexer": "ipython3",
   "version": "3.7.4"
  }
 },
 "nbformat": 4,
 "nbformat_minor": 5
}
