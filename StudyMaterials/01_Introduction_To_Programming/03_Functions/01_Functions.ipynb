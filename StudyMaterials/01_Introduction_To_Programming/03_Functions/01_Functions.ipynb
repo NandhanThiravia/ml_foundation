{
 "cells": [
  {
   "cell_type": "markdown",
   "id": "d60fe263",
   "metadata": {},
   "source": [
    "## Defining Functions\n",
    "No return statement, and No arguments"
   ]
  },
  {
   "cell_type": "code",
   "execution_count": 2,
   "id": "59a59722",
   "metadata": {},
   "outputs": [],
   "source": [
    "def print_greetings():\n",
    "    print(\"Hello World!\")"
   ]
  },
  {
   "cell_type": "code",
   "execution_count": 4,
   "id": "6c9b5a2a",
   "metadata": {},
   "outputs": [
    {
     "name": "stdout",
     "output_type": "stream",
     "text": [
      "Hello World!\n"
     ]
    }
   ],
   "source": [
    "print_greetings()"
   ]
  },
  {
   "cell_type": "markdown",
   "id": "858e72c2",
   "metadata": {},
   "source": [
    "### Functions with Return Statements and arguments"
   ]
  },
  {
   "cell_type": "code",
   "execution_count": 39,
   "id": "b802ca5d",
   "metadata": {},
   "outputs": [],
   "source": [
    "def cylinder_volume(radius, height=5):\n",
    "    \"\"\"Calculate the Volume of a Cylinder.\n",
    "\n",
    "    INPUT:\n",
    "    radius: int or float. The Radius of the Cylinder\n",
    "    height: int or float. The Height of the Cylinder\n",
    "\n",
    "    OUTPUT: \n",
    "    volume: PI * radius^2 * height\n",
    "    \"\"\"\n",
    "    return 3.14 * radius**2 * height"
   ]
  },
  {
   "cell_type": "code",
   "execution_count": 40,
   "id": "6cfa401c",
   "metadata": {},
   "outputs": [
    {
     "name": "stdout",
     "output_type": "stream",
     "text": [
      "37.68\n"
     ]
    }
   ],
   "source": [
    "volume = cylinder_volume(2, 3)\n",
    "print(volume)"
   ]
  },
  {
   "cell_type": "code",
   "execution_count": 41,
   "id": "29354d5f",
   "metadata": {},
   "outputs": [
    {
     "name": "stdout",
     "output_type": "stream",
     "text": [
      "Help on function cylinder_volume in module __main__:\n",
      "\n",
      "cylinder_volume(radius, height=5)\n",
      "    Calculate the Volume of a Cylinder.\n",
      "    \n",
      "    INPUT:\n",
      "    radius: int or float. The Radius of the Cylinder\n",
      "    height: int or float. The Height of the Cylinder\n",
      "    \n",
      "    OUTPUT: \n",
      "    volume: PI * radius^2 * height\n",
      "\n"
     ]
    }
   ],
   "source": [
    "help(cylinder_volume)"
   ]
  },
  {
   "cell_type": "code",
   "execution_count": 13,
   "id": "ba6f6885",
   "metadata": {},
   "outputs": [
    {
     "name": "stdout",
     "output_type": "stream",
     "text": [
      "62.800000000000004\n"
     ]
    }
   ],
   "source": [
    "volume = cylinder_volume(2)\n",
    "print(volume)"
   ]
  },
  {
   "cell_type": "markdown",
   "id": "c9b1f999",
   "metadata": {},
   "source": [
    "### Quiz: Population Density Function\n",
    "Write a function named population_density that takes two arguments, population and land_area, and returns a population density calculated from those values. I've included two test cases that you can use to verify that your function works correctly. Once you've written your function, use the Test Run button to test your code."
   ]
  },
  {
   "cell_type": "code",
   "execution_count": 37,
   "id": "b72c02bb",
   "metadata": {},
   "outputs": [
    {
     "name": "stdout",
     "output_type": "stream",
     "text": [
      "expected result: 10, actual result: 10.0\n",
      "expected result: 7123.6902801, actual result: 7123.690280065897\n"
     ]
    }
   ],
   "source": [
    "# write your function here\n",
    "def population_density(population, land_area):\n",
    "    \"\"\"Calculate the population density of an area. \"\"\"\n",
    "    return population/land_area;\n",
    "\n",
    "\n",
    "# test cases for your function\n",
    "test1 = population_density(10, 1)\n",
    "expected_result1 = 10\n",
    "print(\"expected result: {}, actual result: {}\".format(expected_result1, test1))\n",
    "\n",
    "test2 = population_density(864816, 121.4)\n",
    "expected_result2 = 7123.6902801\n",
    "print(\"expected result: {}, actual result: {}\".format(expected_result2, test2))"
   ]
  },
  {
   "cell_type": "code",
   "execution_count": 38,
   "id": "ac6f35de",
   "metadata": {},
   "outputs": [
    {
     "name": "stdout",
     "output_type": "stream",
     "text": [
      "Help on function population_density in module __main__:\n",
      "\n",
      "population_density(population, land_area)\n",
      "    Calculate the population density of an area.\n",
      "\n"
     ]
    }
   ],
   "source": [
    "help(population_density)"
   ]
  },
  {
   "cell_type": "markdown",
   "id": "060cf7b8",
   "metadata": {},
   "source": [
    "### Quiz: readable_timedelta\n",
    "Write a function named readable_timedelta. The function should take one argument, an integer days, and return a string that says how many weeks and days that is. For example, calling the function and printing the result like this:"
   ]
  },
  {
   "cell_type": "code",
   "execution_count": 34,
   "id": "e79acc45",
   "metadata": {},
   "outputs": [
    {
     "name": "stdout",
     "output_type": "stream",
     "text": [
      "0 week(s) and 1 day(s).\n"
     ]
    }
   ],
   "source": [
    "# write your function here\n",
    "def readable_timedelta(days):\n",
    "    readable_timedelta = \"{} week(s) \".format(days // 7)\n",
    "    readable_timedelta += \"and {} day(s).\".format(days % 7)\n",
    "    \n",
    "    return readable_timedelta\n",
    "\n",
    "# test your function\n",
    "print(readable_timedelta(1))"
   ]
  }
 ],
 "metadata": {
  "kernelspec": {
   "display_name": "Python 3 (ipykernel)",
   "language": "python",
   "name": "python3"
  },
  "language_info": {
   "codemirror_mode": {
    "name": "ipython",
    "version": 3
   },
   "file_extension": ".py",
   "mimetype": "text/x-python",
   "name": "python",
   "nbconvert_exporter": "python",
   "pygments_lexer": "ipython3",
   "version": "3.7.4"
  }
 },
 "nbformat": 4,
 "nbformat_minor": 5
}
