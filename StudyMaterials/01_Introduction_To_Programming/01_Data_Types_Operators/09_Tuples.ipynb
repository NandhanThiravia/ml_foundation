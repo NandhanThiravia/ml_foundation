{
 "cells": [
  {
   "cell_type": "markdown",
   "id": "3660a236",
   "metadata": {},
   "source": [
    "# Tuples"
   ]
  },
  {
   "cell_type": "code",
   "execution_count": 1,
   "id": "ffa12cb9",
   "metadata": {},
   "outputs": [],
   "source": [
    "location = (78.1, 27.1)"
   ]
  },
  {
   "cell_type": "code",
   "execution_count": 2,
   "id": "71c6242d",
   "metadata": {},
   "outputs": [
    {
     "name": "stdout",
     "output_type": "stream",
     "text": [
      "(78.1, 27.1)\n"
     ]
    }
   ],
   "source": [
    "print(location)"
   ]
  },
  {
   "cell_type": "code",
   "execution_count": 3,
   "id": "2b694533",
   "metadata": {},
   "outputs": [],
   "source": [
    "lattitude, longitude = location"
   ]
  },
  {
   "cell_type": "code",
   "execution_count": 4,
   "id": "695609dc",
   "metadata": {},
   "outputs": [
    {
     "data": {
      "text/plain": [
       "78.1"
      ]
     },
     "execution_count": 4,
     "metadata": {},
     "output_type": "execute_result"
    }
   ],
   "source": [
    "lattitude"
   ]
  },
  {
   "cell_type": "code",
   "execution_count": 6,
   "id": "e7fcf9cb",
   "metadata": {},
   "outputs": [
    {
     "data": {
      "text/plain": [
       "27.1"
      ]
     },
     "execution_count": 6,
     "metadata": {},
     "output_type": "execute_result"
    }
   ],
   "source": [
    "longitude"
   ]
  },
  {
   "cell_type": "code",
   "execution_count": 9,
   "id": "b2083e20",
   "metadata": {},
   "outputs": [
    {
     "name": "stdout",
     "output_type": "stream",
     "text": [
      "The location is 78.1 E and 27.1 N\n"
     ]
    }
   ],
   "source": [
    "print (\"The location is {} E and {} N\".format(lattitude, longitude))"
   ]
  },
  {
   "cell_type": "code",
   "execution_count": 10,
   "id": "f25d0c4b",
   "metadata": {},
   "outputs": [],
   "source": [
    "test_tuple = 28, 24"
   ]
  },
  {
   "cell_type": "code",
   "execution_count": 11,
   "id": "5a7b02fa",
   "metadata": {},
   "outputs": [
    {
     "data": {
      "text/plain": [
       "(28, 24)"
      ]
     },
     "execution_count": 11,
     "metadata": {},
     "output_type": "execute_result"
    }
   ],
   "source": [
    "test_tuple"
   ]
  }
 ],
 "metadata": {
  "kernelspec": {
   "display_name": "Python 3 (ipykernel)",
   "language": "python",
   "name": "python3"
  },
  "language_info": {
   "codemirror_mode": {
    "name": "ipython",
    "version": 3
   },
   "file_extension": ".py",
   "mimetype": "text/x-python",
   "name": "python",
   "nbconvert_exporter": "python",
   "pygments_lexer": "ipython3",
   "version": "3.7.4"
  }
 },
 "nbformat": 4,
 "nbformat_minor": 5
}
