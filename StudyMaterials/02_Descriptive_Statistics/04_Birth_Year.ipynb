{
 "cells": [
  {
   "cell_type": "code",
   "execution_count": 7,
   "id": "b1e44dad",
   "metadata": {},
   "outputs": [],
   "source": [
    "import pandas as pd\n",
    "import matplotlib.pyplot as plt"
   ]
  },
  {
   "cell_type": "code",
   "execution_count": 3,
   "id": "5ed9d39a",
   "metadata": {},
   "outputs": [
    {
     "data": {
      "text/html": [
       "<div>\n",
       "<style scoped>\n",
       "    .dataframe tbody tr th:only-of-type {\n",
       "        vertical-align: middle;\n",
       "    }\n",
       "\n",
       "    .dataframe tbody tr th {\n",
       "        vertical-align: top;\n",
       "    }\n",
       "\n",
       "    .dataframe thead th {\n",
       "        text-align: right;\n",
       "    }\n",
       "</style>\n",
       "<table border=\"1\" class=\"dataframe\">\n",
       "  <thead>\n",
       "    <tr style=\"text-align: right;\">\n",
       "      <th></th>\n",
       "      <th>Birth Year</th>\n",
       "      <th>Frequency</th>\n",
       "    </tr>\n",
       "  </thead>\n",
       "  <tbody>\n",
       "    <tr>\n",
       "      <th>0</th>\n",
       "      <td>1911-1920</td>\n",
       "      <td>1</td>\n",
       "    </tr>\n",
       "    <tr>\n",
       "      <th>1</th>\n",
       "      <td>1921-1930</td>\n",
       "      <td>2</td>\n",
       "    </tr>\n",
       "    <tr>\n",
       "      <th>2</th>\n",
       "      <td>1931-1940</td>\n",
       "      <td>10</td>\n",
       "    </tr>\n",
       "    <tr>\n",
       "      <th>3</th>\n",
       "      <td>1941-1950</td>\n",
       "      <td>59</td>\n",
       "    </tr>\n",
       "    <tr>\n",
       "      <th>4</th>\n",
       "      <td>1951-1960</td>\n",
       "      <td>206</td>\n",
       "    </tr>\n",
       "    <tr>\n",
       "      <th>5</th>\n",
       "      <td>1961-1970</td>\n",
       "      <td>454</td>\n",
       "    </tr>\n",
       "    <tr>\n",
       "      <th>6</th>\n",
       "      <td>1971-1980</td>\n",
       "      <td>1323</td>\n",
       "    </tr>\n",
       "    <tr>\n",
       "      <th>7</th>\n",
       "      <td>1981-1990</td>\n",
       "      <td>3986</td>\n",
       "    </tr>\n",
       "    <tr>\n",
       "      <th>8</th>\n",
       "      <td>1991-2000</td>\n",
       "      <td>1851</td>\n",
       "    </tr>\n",
       "    <tr>\n",
       "      <th>9</th>\n",
       "      <td>2001-2010</td>\n",
       "      <td>9</td>\n",
       "    </tr>\n",
       "  </tbody>\n",
       "</table>\n",
       "</div>"
      ],
      "text/plain": [
       "  Birth Year  Frequency\n",
       "0  1911-1920          1\n",
       "1  1921-1930          2\n",
       "2  1931-1940         10\n",
       "3  1941-1950         59\n",
       "4  1951-1960        206\n",
       "5  1961-1970        454\n",
       "6  1971-1980       1323\n",
       "7  1981-1990       3986\n",
       "8  1991-2000       1851\n",
       "9  2001-2010          9"
      ]
     },
     "execution_count": 3,
     "metadata": {},
     "output_type": "execute_result"
    }
   ],
   "source": [
    "birth_year_df = pd.read_excel('04_Birth_Year.xlsx')\n",
    "birth_year_df"
   ]
  },
  {
   "cell_type": "code",
   "execution_count": 51,
   "id": "1097cb54",
   "metadata": {},
   "outputs": [
    {
     "data": {
      "text/plain": [
       "count      10.000000\n",
       "mean      790.100000\n",
       "std      1294.190648\n",
       "min         1.000000\n",
       "25%         9.250000\n",
       "50%       132.500000\n",
       "75%      1105.750000\n",
       "max      3986.000000\n",
       "Name: Frequency, dtype: float64"
      ]
     },
     "execution_count": 51,
     "metadata": {},
     "output_type": "execute_result"
    }
   ],
   "source": [
    "birth_year_df['Frequency'].describe()"
   ]
  },
  {
   "cell_type": "code",
   "execution_count": 56,
   "id": "89b722e7",
   "metadata": {},
   "outputs": [
    {
     "data": {
      "text/plain": [
       "7901"
      ]
     },
     "execution_count": 56,
     "metadata": {},
     "output_type": "execute_result"
    }
   ],
   "source": [
    "birth_year_df['Frequency'].sum()"
   ]
  },
  {
   "cell_type": "code",
   "execution_count": 57,
   "id": "350e0a49",
   "metadata": {},
   "outputs": [],
   "source": [
    "birth_year_df['Percentage'] = (birth_year_df['Frequency'] / birth_year_df['Frequency'].sum()) * 100"
   ]
  },
  {
   "cell_type": "code",
   "execution_count": 58,
   "id": "a4e8f00d",
   "metadata": {},
   "outputs": [
    {
     "data": {
      "text/html": [
       "<div>\n",
       "<style scoped>\n",
       "    .dataframe tbody tr th:only-of-type {\n",
       "        vertical-align: middle;\n",
       "    }\n",
       "\n",
       "    .dataframe tbody tr th {\n",
       "        vertical-align: top;\n",
       "    }\n",
       "\n",
       "    .dataframe thead th {\n",
       "        text-align: right;\n",
       "    }\n",
       "</style>\n",
       "<table border=\"1\" class=\"dataframe\">\n",
       "  <thead>\n",
       "    <tr style=\"text-align: right;\">\n",
       "      <th></th>\n",
       "      <th>Birth Year</th>\n",
       "      <th>Frequency</th>\n",
       "      <th>Percentage</th>\n",
       "    </tr>\n",
       "  </thead>\n",
       "  <tbody>\n",
       "    <tr>\n",
       "      <th>0</th>\n",
       "      <td>1911-1920</td>\n",
       "      <td>1</td>\n",
       "      <td>0.012657</td>\n",
       "    </tr>\n",
       "    <tr>\n",
       "      <th>1</th>\n",
       "      <td>1921-1930</td>\n",
       "      <td>2</td>\n",
       "      <td>0.025313</td>\n",
       "    </tr>\n",
       "    <tr>\n",
       "      <th>2</th>\n",
       "      <td>1931-1940</td>\n",
       "      <td>10</td>\n",
       "      <td>0.126566</td>\n",
       "    </tr>\n",
       "    <tr>\n",
       "      <th>3</th>\n",
       "      <td>1941-1950</td>\n",
       "      <td>59</td>\n",
       "      <td>0.746741</td>\n",
       "    </tr>\n",
       "    <tr>\n",
       "      <th>4</th>\n",
       "      <td>1951-1960</td>\n",
       "      <td>206</td>\n",
       "      <td>2.607265</td>\n",
       "    </tr>\n",
       "    <tr>\n",
       "      <th>5</th>\n",
       "      <td>1961-1970</td>\n",
       "      <td>454</td>\n",
       "      <td>5.746108</td>\n",
       "    </tr>\n",
       "    <tr>\n",
       "      <th>6</th>\n",
       "      <td>1971-1980</td>\n",
       "      <td>1323</td>\n",
       "      <td>16.744716</td>\n",
       "    </tr>\n",
       "    <tr>\n",
       "      <th>7</th>\n",
       "      <td>1981-1990</td>\n",
       "      <td>3986</td>\n",
       "      <td>50.449310</td>\n",
       "    </tr>\n",
       "    <tr>\n",
       "      <th>8</th>\n",
       "      <td>1991-2000</td>\n",
       "      <td>1851</td>\n",
       "      <td>23.427414</td>\n",
       "    </tr>\n",
       "    <tr>\n",
       "      <th>9</th>\n",
       "      <td>2001-2010</td>\n",
       "      <td>9</td>\n",
       "      <td>0.113910</td>\n",
       "    </tr>\n",
       "  </tbody>\n",
       "</table>\n",
       "</div>"
      ],
      "text/plain": [
       "  Birth Year  Frequency  Percentage\n",
       "0  1911-1920          1    0.012657\n",
       "1  1921-1930          2    0.025313\n",
       "2  1931-1940         10    0.126566\n",
       "3  1941-1950         59    0.746741\n",
       "4  1951-1960        206    2.607265\n",
       "5  1961-1970        454    5.746108\n",
       "6  1971-1980       1323   16.744716\n",
       "7  1981-1990       3986   50.449310\n",
       "8  1991-2000       1851   23.427414\n",
       "9  2001-2010          9    0.113910"
      ]
     },
     "execution_count": 58,
     "metadata": {},
     "output_type": "execute_result"
    }
   ],
   "source": [
    "birth_year_df"
   ]
  },
  {
   "cell_type": "code",
   "execution_count": 50,
   "id": "fc5d40e0",
   "metadata": {
    "scrolled": true
   },
   "outputs": [
    {
     "data": {
      "image/png": "[encoded data removed]",
      "text/plain": [
       "<Figure size 1008x396 with 1 Axes>"
      ]
     },
     "metadata": {
      "needs_background": "light"
     },
     "output_type": "display_data"
    }
   ],
   "source": [
    "# Set the size of th figure\n",
    "plt.rcParams[\"figure.figsize\"] = (14,5.5)\n",
    "\n",
    "plt.bar(birth_year_df['Birth Year'], birth_year_df['Frequency'],align='center') # A bar chart\n",
    "plt.xlabel('Birth Year')\n",
    "plt.ylabel('Frequency')\n",
    "\n",
    "for i in range(len(birth_year_df)):\n",
    "    plt.hlines(birth_year_df['Frequency'][i], 0, birth_year_df['Birth Year'][i])\n",
    "\n",
    "plt.show()"
   ]
  }
 ],
 "metadata": {
  "kernelspec": {
   "display_name": "Python 3 (ipykernel)",
   "language": "python",
   "name": "python3"
  },
  "language_info": {
   "codemirror_mode": {
    "name": "ipython",
    "version": 3
   },
   "file_extension": ".py",
   "mimetype": "text/x-python",
   "name": "python",
   "nbconvert_exporter": "python",
   "pygments_lexer": "ipython3",
   "version": "3.9.12"
  }
 },
 "nbformat": 4,
 "nbformat_minor": 5
}
