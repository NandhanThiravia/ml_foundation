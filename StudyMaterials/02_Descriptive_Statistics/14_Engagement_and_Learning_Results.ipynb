{
 "cells": [
  {
   "cell_type": "code",
   "execution_count": 1,
   "id": "34f6626b",
   "metadata": {},
   "outputs": [],
   "source": [
    "import pandas as pd"
   ]
  },
  {
   "cell_type": "code",
   "execution_count": 15,
   "id": "663478da",
   "metadata": {},
   "outputs": [],
   "source": [
    "engagement_df = pd.read_excel('14_Engagement_and_Learning_Results - Lesson 9.xlsx', usecols=[0, 1, 2])"
   ]
  },
  {
   "cell_type": "code",
   "execution_count": 16,
   "id": "a59b7688",
   "metadata": {},
   "outputs": [
    {
     "data": {
      "text/html": [
       "<div>\n",
       "<style scoped>\n",
       "    .dataframe tbody tr th:only-of-type {\n",
       "        vertical-align: middle;\n",
       "    }\n",
       "\n",
       "    .dataframe tbody tr th {\n",
       "        vertical-align: top;\n",
       "    }\n",
       "\n",
       "    .dataframe thead th {\n",
       "        text-align: right;\n",
       "    }\n",
       "</style>\n",
       "<table border=\"1\" class=\"dataframe\">\n",
       "  <thead>\n",
       "    <tr style=\"text-align: right;\">\n",
       "      <th></th>\n",
       "      <th>Please rank how engaged you are in Stats 95 on a scale from 1 to 10.</th>\n",
       "      <th>Please rank how much you think you're learning in Stats 95 on a scale from 1 to 10.</th>\n",
       "    </tr>\n",
       "  </thead>\n",
       "  <tbody>\n",
       "    <tr>\n",
       "      <th>count</th>\n",
       "      <td>235.000000</td>\n",
       "      <td>235.000000</td>\n",
       "    </tr>\n",
       "    <tr>\n",
       "      <th>mean</th>\n",
       "      <td>7.470213</td>\n",
       "      <td>7.396596</td>\n",
       "    </tr>\n",
       "    <tr>\n",
       "      <th>std</th>\n",
       "      <td>2.418140</td>\n",
       "      <td>2.537056</td>\n",
       "    </tr>\n",
       "    <tr>\n",
       "      <th>min</th>\n",
       "      <td>1.000000</td>\n",
       "      <td>1.000000</td>\n",
       "    </tr>\n",
       "    <tr>\n",
       "      <th>25%</th>\n",
       "      <td>7.000000</td>\n",
       "      <td>6.000000</td>\n",
       "    </tr>\n",
       "    <tr>\n",
       "      <th>50%</th>\n",
       "      <td>8.000000</td>\n",
       "      <td>8.000000</td>\n",
       "    </tr>\n",
       "    <tr>\n",
       "      <th>75%</th>\n",
       "      <td>9.000000</td>\n",
       "      <td>9.000000</td>\n",
       "    </tr>\n",
       "    <tr>\n",
       "      <th>max</th>\n",
       "      <td>10.000000</td>\n",
       "      <td>10.000000</td>\n",
       "    </tr>\n",
       "  </tbody>\n",
       "</table>\n",
       "</div>"
      ],
      "text/plain": [
       "       Please rank how engaged you are in Stats 95 on a scale from 1 to 10.  \\\n",
       "count                                         235.000000                      \n",
       "mean                                            7.470213                      \n",
       "std                                             2.418140                      \n",
       "min                                             1.000000                      \n",
       "25%                                             7.000000                      \n",
       "50%                                             8.000000                      \n",
       "75%                                             9.000000                      \n",
       "max                                            10.000000                      \n",
       "\n",
       "       Please rank how much you think you're learning in Stats 95 on a scale from 1 to 10.  \n",
       "count                                         235.000000                                    \n",
       "mean                                            7.396596                                    \n",
       "std                                             2.537056                                    \n",
       "min                                             1.000000                                    \n",
       "25%                                             6.000000                                    \n",
       "50%                                             8.000000                                    \n",
       "75%                                             9.000000                                    \n",
       "max                                            10.000000                                    "
      ]
     },
     "execution_count": 16,
     "metadata": {},
     "output_type": "execute_result"
    }
   ],
   "source": [
    "engagement_df.describe()"
   ]
  }
 ],
 "metadata": {
  "kernelspec": {
   "display_name": "Python 3 (ipykernel)",
   "language": "python",
   "name": "python3"
  },
  "language_info": {
   "codemirror_mode": {
    "name": "ipython",
    "version": 3
   },
   "file_extension": ".py",
   "mimetype": "text/x-python",
   "name": "python",
   "nbconvert_exporter": "python",
   "pygments_lexer": "ipython3",
   "version": "3.9.12"
  }
 },
 "nbformat": 4,
 "nbformat_minor": 5
}
